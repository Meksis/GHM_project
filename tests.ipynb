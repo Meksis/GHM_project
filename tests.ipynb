{
 "cells": [
  {
   "cell_type": "code",
   "execution_count": 1,
   "metadata": {},
   "outputs": [],
   "source": [
    "from sqlalchemy.orm import sessionmaker\n",
    "from sqlalchemy import create_engine\n",
    "import sqlalchemy"
   ]
  },
  {
   "cell_type": "code",
   "execution_count": 2,
   "metadata": {},
   "outputs": [],
   "source": [
    "db_user = 'test_user'\n",
    "db_password = '12345678'\n",
    "db_hostname = '192.168.1.100:3306'\n",
    "db_name = 'TEST'\n",
    "\n",
    "engine = create_engine(f'''mysql+pymysql://{db_user}:{db_password}@{db_hostname}/{db_name}''', pool_pre_ping = 1)\n",
    "meta = sqlalchemy.MetaData()"
   ]
  },
  {
   "cell_type": "code",
   "execution_count": 53,
   "metadata": {},
   "outputs": [
    {
     "ename": "OperationalError",
     "evalue": "(pymysql.err.OperationalError) (1045, \"Access denied for user 'test_user'@'192.168.1.11' (using password: YES)\")\n(Background on this error at: https://sqlalche.me/e/20/e3q8)",
     "output_type": "error",
     "traceback": [
      "\u001b[1;31m---------------------------------------------------------------------------\u001b[0m",
      "\u001b[1;31mOperationalError\u001b[0m                          Traceback (most recent call last)",
      "File \u001b[1;32ml:\\Programms\\Python\\lib\\site-packages\\sqlalchemy\\engine\\base.py:145\u001b[0m, in \u001b[0;36mConnection.__init__\u001b[1;34m(self, engine, connection, _has_events, _allow_revalidate, _allow_autobegin)\u001b[0m\n\u001b[0;32m    144\u001b[0m \u001b[39mtry\u001b[39;00m:\n\u001b[1;32m--> 145\u001b[0m     \u001b[39mself\u001b[39m\u001b[39m.\u001b[39m_dbapi_connection \u001b[39m=\u001b[39m engine\u001b[39m.\u001b[39;49mraw_connection()\n\u001b[0;32m    146\u001b[0m \u001b[39mexcept\u001b[39;00m dialect\u001b[39m.\u001b[39mloaded_dbapi\u001b[39m.\u001b[39mError \u001b[39mas\u001b[39;00m err:\n",
      "File \u001b[1;32ml:\\Programms\\Python\\lib\\site-packages\\sqlalchemy\\engine\\base.py:3275\u001b[0m, in \u001b[0;36mEngine.raw_connection\u001b[1;34m(self)\u001b[0m\n\u001b[0;32m   3254\u001b[0m \u001b[39m\u001b[39m\u001b[39m\"\"\"Return a \"raw\" DBAPI connection from the connection pool.\u001b[39;00m\n\u001b[0;32m   3255\u001b[0m \n\u001b[0;32m   3256\u001b[0m \u001b[39mThe returned object is a proxied version of the DBAPI\u001b[39;00m\n\u001b[1;32m   (...)\u001b[0m\n\u001b[0;32m   3273\u001b[0m \n\u001b[0;32m   3274\u001b[0m \u001b[39m\"\"\"\u001b[39;00m\n\u001b[1;32m-> 3275\u001b[0m \u001b[39mreturn\u001b[39;00m \u001b[39mself\u001b[39;49m\u001b[39m.\u001b[39;49mpool\u001b[39m.\u001b[39;49mconnect()\n",
      "File \u001b[1;32ml:\\Programms\\Python\\lib\\site-packages\\sqlalchemy\\pool\\base.py:455\u001b[0m, in \u001b[0;36mPool.connect\u001b[1;34m(self)\u001b[0m\n\u001b[0;32m    448\u001b[0m \u001b[39m\u001b[39m\u001b[39m\"\"\"Return a DBAPI connection from the pool.\u001b[39;00m\n\u001b[0;32m    449\u001b[0m \n\u001b[0;32m    450\u001b[0m \u001b[39mThe connection is instrumented such that when its\u001b[39;00m\n\u001b[1;32m   (...)\u001b[0m\n\u001b[0;32m    453\u001b[0m \n\u001b[0;32m    454\u001b[0m \u001b[39m\"\"\"\u001b[39;00m\n\u001b[1;32m--> 455\u001b[0m \u001b[39mreturn\u001b[39;00m _ConnectionFairy\u001b[39m.\u001b[39;49m_checkout(\u001b[39mself\u001b[39;49m)\n",
      "File \u001b[1;32ml:\\Programms\\Python\\lib\\site-packages\\sqlalchemy\\pool\\base.py:1271\u001b[0m, in \u001b[0;36m_ConnectionFairy._checkout\u001b[1;34m(cls, pool, threadconns, fairy)\u001b[0m\n\u001b[0;32m   1270\u001b[0m \u001b[39mif\u001b[39;00m \u001b[39mnot\u001b[39;00m fairy:\n\u001b[1;32m-> 1271\u001b[0m     fairy \u001b[39m=\u001b[39m _ConnectionRecord\u001b[39m.\u001b[39;49mcheckout(pool)\n\u001b[0;32m   1273\u001b[0m     \u001b[39mif\u001b[39;00m threadconns \u001b[39mis\u001b[39;00m \u001b[39mnot\u001b[39;00m \u001b[39mNone\u001b[39;00m:\n",
      "File \u001b[1;32ml:\\Programms\\Python\\lib\\site-packages\\sqlalchemy\\pool\\base.py:719\u001b[0m, in \u001b[0;36m_ConnectionRecord.checkout\u001b[1;34m(cls, pool)\u001b[0m\n\u001b[0;32m    718\u001b[0m \u001b[39melse\u001b[39;00m:\n\u001b[1;32m--> 719\u001b[0m     rec \u001b[39m=\u001b[39m pool\u001b[39m.\u001b[39;49m_do_get()\n\u001b[0;32m    721\u001b[0m \u001b[39mtry\u001b[39;00m:\n",
      "File \u001b[1;32ml:\\Programms\\Python\\lib\\site-packages\\sqlalchemy\\pool\\impl.py:168\u001b[0m, in \u001b[0;36mQueuePool._do_get\u001b[1;34m(self)\u001b[0m\n\u001b[0;32m    167\u001b[0m \u001b[39mexcept\u001b[39;00m:\n\u001b[1;32m--> 168\u001b[0m     \u001b[39mwith\u001b[39;00m util\u001b[39m.\u001b[39msafe_reraise():\n\u001b[0;32m    169\u001b[0m         \u001b[39mself\u001b[39m\u001b[39m.\u001b[39m_dec_overflow()\n",
      "File \u001b[1;32ml:\\Programms\\Python\\lib\\site-packages\\sqlalchemy\\util\\langhelpers.py:147\u001b[0m, in \u001b[0;36msafe_reraise.__exit__\u001b[1;34m(self, type_, value, traceback)\u001b[0m\n\u001b[0;32m    146\u001b[0m     \u001b[39mself\u001b[39m\u001b[39m.\u001b[39m_exc_info \u001b[39m=\u001b[39m \u001b[39mNone\u001b[39;00m  \u001b[39m# remove potential circular references\u001b[39;00m\n\u001b[1;32m--> 147\u001b[0m     \u001b[39mraise\u001b[39;00m exc_value\u001b[39m.\u001b[39mwith_traceback(exc_tb)\n\u001b[0;32m    148\u001b[0m \u001b[39melse\u001b[39;00m:\n",
      "File \u001b[1;32ml:\\Programms\\Python\\lib\\site-packages\\sqlalchemy\\pool\\impl.py:166\u001b[0m, in \u001b[0;36mQueuePool._do_get\u001b[1;34m(self)\u001b[0m\n\u001b[0;32m    165\u001b[0m \u001b[39mtry\u001b[39;00m:\n\u001b[1;32m--> 166\u001b[0m     \u001b[39mreturn\u001b[39;00m \u001b[39mself\u001b[39;49m\u001b[39m.\u001b[39;49m_create_connection()\n\u001b[0;32m    167\u001b[0m \u001b[39mexcept\u001b[39;00m:\n",
      "File \u001b[1;32ml:\\Programms\\Python\\lib\\site-packages\\sqlalchemy\\pool\\base.py:396\u001b[0m, in \u001b[0;36mPool._create_connection\u001b[1;34m(self)\u001b[0m\n\u001b[0;32m    394\u001b[0m \u001b[39m\u001b[39m\u001b[39m\"\"\"Called by subclasses to create a new ConnectionRecord.\"\"\"\u001b[39;00m\n\u001b[1;32m--> 396\u001b[0m \u001b[39mreturn\u001b[39;00m _ConnectionRecord(\u001b[39mself\u001b[39;49m)\n",
      "File \u001b[1;32ml:\\Programms\\Python\\lib\\site-packages\\sqlalchemy\\pool\\base.py:681\u001b[0m, in \u001b[0;36m_ConnectionRecord.__init__\u001b[1;34m(self, pool, connect)\u001b[0m\n\u001b[0;32m    680\u001b[0m \u001b[39mif\u001b[39;00m connect:\n\u001b[1;32m--> 681\u001b[0m     \u001b[39mself\u001b[39;49m\u001b[39m.\u001b[39;49m__connect()\n\u001b[0;32m    682\u001b[0m \u001b[39mself\u001b[39m\u001b[39m.\u001b[39mfinalize_callback \u001b[39m=\u001b[39m deque()\n",
      "File \u001b[1;32ml:\\Programms\\Python\\lib\\site-packages\\sqlalchemy\\pool\\base.py:905\u001b[0m, in \u001b[0;36m_ConnectionRecord.__connect\u001b[1;34m(self)\u001b[0m\n\u001b[0;32m    904\u001b[0m \u001b[39mexcept\u001b[39;00m \u001b[39mBaseException\u001b[39;00m \u001b[39mas\u001b[39;00m e:\n\u001b[1;32m--> 905\u001b[0m     \u001b[39mwith\u001b[39;00m util\u001b[39m.\u001b[39msafe_reraise():\n\u001b[0;32m    906\u001b[0m         pool\u001b[39m.\u001b[39mlogger\u001b[39m.\u001b[39mdebug(\u001b[39m\"\u001b[39m\u001b[39mError on connect(): \u001b[39m\u001b[39m%s\u001b[39;00m\u001b[39m\"\u001b[39m, e)\n",
      "File \u001b[1;32ml:\\Programms\\Python\\lib\\site-packages\\sqlalchemy\\util\\langhelpers.py:147\u001b[0m, in \u001b[0;36msafe_reraise.__exit__\u001b[1;34m(self, type_, value, traceback)\u001b[0m\n\u001b[0;32m    146\u001b[0m     \u001b[39mself\u001b[39m\u001b[39m.\u001b[39m_exc_info \u001b[39m=\u001b[39m \u001b[39mNone\u001b[39;00m  \u001b[39m# remove potential circular references\u001b[39;00m\n\u001b[1;32m--> 147\u001b[0m     \u001b[39mraise\u001b[39;00m exc_value\u001b[39m.\u001b[39mwith_traceback(exc_tb)\n\u001b[0;32m    148\u001b[0m \u001b[39melse\u001b[39;00m:\n",
      "File \u001b[1;32ml:\\Programms\\Python\\lib\\site-packages\\sqlalchemy\\pool\\base.py:901\u001b[0m, in \u001b[0;36m_ConnectionRecord.__connect\u001b[1;34m(self)\u001b[0m\n\u001b[0;32m    900\u001b[0m \u001b[39mself\u001b[39m\u001b[39m.\u001b[39mstarttime \u001b[39m=\u001b[39m time\u001b[39m.\u001b[39mtime()\n\u001b[1;32m--> 901\u001b[0m \u001b[39mself\u001b[39m\u001b[39m.\u001b[39mdbapi_connection \u001b[39m=\u001b[39m connection \u001b[39m=\u001b[39m pool\u001b[39m.\u001b[39;49m_invoke_creator(\u001b[39mself\u001b[39;49m)\n\u001b[0;32m    902\u001b[0m pool\u001b[39m.\u001b[39mlogger\u001b[39m.\u001b[39mdebug(\u001b[39m\"\u001b[39m\u001b[39mCreated new connection \u001b[39m\u001b[39m%r\u001b[39;00m\u001b[39m\"\u001b[39m, connection)\n",
      "File \u001b[1;32ml:\\Programms\\Python\\lib\\site-packages\\sqlalchemy\\engine\\create.py:636\u001b[0m, in \u001b[0;36mcreate_engine.<locals>.connect\u001b[1;34m(connection_record)\u001b[0m\n\u001b[0;32m    634\u001b[0m             \u001b[39mreturn\u001b[39;00m connection\n\u001b[1;32m--> 636\u001b[0m \u001b[39mreturn\u001b[39;00m dialect\u001b[39m.\u001b[39mconnect(\u001b[39m*\u001b[39mcargs, \u001b[39m*\u001b[39m\u001b[39m*\u001b[39mcparams)\n",
      "File \u001b[1;32ml:\\Programms\\Python\\lib\\site-packages\\sqlalchemy\\engine\\default.py:580\u001b[0m, in \u001b[0;36mDefaultDialect.connect\u001b[1;34m(self, *cargs, **cparams)\u001b[0m\n\u001b[0;32m    578\u001b[0m \u001b[39mdef\u001b[39;00m \u001b[39mconnect\u001b[39m(\u001b[39mself\u001b[39m, \u001b[39m*\u001b[39mcargs, \u001b[39m*\u001b[39m\u001b[39m*\u001b[39mcparams):\n\u001b[0;32m    579\u001b[0m     \u001b[39m# inherits the docstring from interfaces.Dialect.connect\u001b[39;00m\n\u001b[1;32m--> 580\u001b[0m     \u001b[39mreturn\u001b[39;00m \u001b[39mself\u001b[39m\u001b[39m.\u001b[39mloaded_dbapi\u001b[39m.\u001b[39mconnect(\u001b[39m*\u001b[39mcargs, \u001b[39m*\u001b[39m\u001b[39m*\u001b[39mcparams)\n",
      "File \u001b[1;32ml:\\Programms\\Python\\lib\\site-packages\\pymysql\\connections.py:353\u001b[0m, in \u001b[0;36mConnection.__init__\u001b[1;34m(self, user, password, host, database, unix_socket, port, charset, sql_mode, read_default_file, conv, use_unicode, client_flag, cursorclass, init_command, connect_timeout, read_default_group, autocommit, local_infile, max_allowed_packet, defer_connect, auth_plugin_map, read_timeout, write_timeout, bind_address, binary_prefix, program_name, server_public_key, ssl, ssl_ca, ssl_cert, ssl_disabled, ssl_key, ssl_verify_cert, ssl_verify_identity, compress, named_pipe, passwd, db)\u001b[0m\n\u001b[0;32m    352\u001b[0m \u001b[39melse\u001b[39;00m:\n\u001b[1;32m--> 353\u001b[0m     \u001b[39mself\u001b[39;49m\u001b[39m.\u001b[39;49mconnect()\n",
      "File \u001b[1;32ml:\\Programms\\Python\\lib\\site-packages\\pymysql\\connections.py:633\u001b[0m, in \u001b[0;36mConnection.connect\u001b[1;34m(self, sock)\u001b[0m\n\u001b[0;32m    632\u001b[0m \u001b[39mself\u001b[39m\u001b[39m.\u001b[39m_get_server_information()\n\u001b[1;32m--> 633\u001b[0m \u001b[39mself\u001b[39;49m\u001b[39m.\u001b[39;49m_request_authentication()\n\u001b[0;32m    635\u001b[0m \u001b[39mif\u001b[39;00m \u001b[39mself\u001b[39m\u001b[39m.\u001b[39msql_mode \u001b[39mis\u001b[39;00m \u001b[39mnot\u001b[39;00m \u001b[39mNone\u001b[39;00m:\n",
      "File \u001b[1;32ml:\\Programms\\Python\\lib\\site-packages\\pymysql\\connections.py:907\u001b[0m, in \u001b[0;36mConnection._request_authentication\u001b[1;34m(self)\u001b[0m\n\u001b[0;32m    906\u001b[0m \u001b[39mself\u001b[39m\u001b[39m.\u001b[39mwrite_packet(data)\n\u001b[1;32m--> 907\u001b[0m auth_packet \u001b[39m=\u001b[39m \u001b[39mself\u001b[39;49m\u001b[39m.\u001b[39;49m_read_packet()\n\u001b[0;32m    909\u001b[0m \u001b[39m# if authentication method isn't accepted the first byte\u001b[39;00m\n\u001b[0;32m    910\u001b[0m \u001b[39m# will have the octet 254\u001b[39;00m\n",
      "File \u001b[1;32ml:\\Programms\\Python\\lib\\site-packages\\pymysql\\connections.py:725\u001b[0m, in \u001b[0;36mConnection._read_packet\u001b[1;34m(self, packet_type)\u001b[0m\n\u001b[0;32m    724\u001b[0m         \u001b[39mself\u001b[39m\u001b[39m.\u001b[39m_result\u001b[39m.\u001b[39munbuffered_active \u001b[39m=\u001b[39m \u001b[39mFalse\u001b[39;00m\n\u001b[1;32m--> 725\u001b[0m     packet\u001b[39m.\u001b[39;49mraise_for_error()\n\u001b[0;32m    726\u001b[0m \u001b[39mreturn\u001b[39;00m packet\n",
      "File \u001b[1;32ml:\\Programms\\Python\\lib\\site-packages\\pymysql\\protocol.py:221\u001b[0m, in \u001b[0;36mMysqlPacket.raise_for_error\u001b[1;34m(self)\u001b[0m\n\u001b[0;32m    220\u001b[0m     \u001b[39mprint\u001b[39m(\u001b[39m\"\u001b[39m\u001b[39merrno =\u001b[39m\u001b[39m\"\u001b[39m, errno)\n\u001b[1;32m--> 221\u001b[0m err\u001b[39m.\u001b[39;49mraise_mysql_exception(\u001b[39mself\u001b[39;49m\u001b[39m.\u001b[39;49m_data)\n",
      "File \u001b[1;32ml:\\Programms\\Python\\lib\\site-packages\\pymysql\\err.py:143\u001b[0m, in \u001b[0;36mraise_mysql_exception\u001b[1;34m(data)\u001b[0m\n\u001b[0;32m    142\u001b[0m     errorclass \u001b[39m=\u001b[39m InternalError \u001b[39mif\u001b[39;00m errno \u001b[39m<\u001b[39m \u001b[39m1000\u001b[39m \u001b[39melse\u001b[39;00m OperationalError\n\u001b[1;32m--> 143\u001b[0m \u001b[39mraise\u001b[39;00m errorclass(errno, errval)\n",
      "\u001b[1;31mOperationalError\u001b[0m: (1045, \"Access denied for user 'test_user'@'192.168.1.11' (using password: YES)\")",
      "\nThe above exception was the direct cause of the following exception:\n",
      "\u001b[1;31mOperationalError\u001b[0m                          Traceback (most recent call last)",
      "Cell \u001b[1;32mIn[53], line 2\u001b[0m\n\u001b[0;32m      1\u001b[0m \u001b[39m# session = sessionmaker(bind = engine)\u001b[39;00m\n\u001b[1;32m----> 2\u001b[0m connection \u001b[39m=\u001b[39m engine\u001b[39m.\u001b[39;49mconnect()\n",
      "File \u001b[1;32ml:\\Programms\\Python\\lib\\site-packages\\sqlalchemy\\engine\\base.py:3251\u001b[0m, in \u001b[0;36mEngine.connect\u001b[1;34m(self)\u001b[0m\n\u001b[0;32m   3228\u001b[0m \u001b[39mdef\u001b[39;00m \u001b[39mconnect\u001b[39m(\u001b[39mself\u001b[39m) \u001b[39m-\u001b[39m\u001b[39m>\u001b[39m Connection:\n\u001b[0;32m   3229\u001b[0m \u001b[39m    \u001b[39m\u001b[39m\"\"\"Return a new :class:`_engine.Connection` object.\u001b[39;00m\n\u001b[0;32m   3230\u001b[0m \n\u001b[0;32m   3231\u001b[0m \u001b[39m    The :class:`_engine.Connection` acts as a Python context manager, so\u001b[39;00m\n\u001b[1;32m   (...)\u001b[0m\n\u001b[0;32m   3248\u001b[0m \n\u001b[0;32m   3249\u001b[0m \u001b[39m    \"\"\"\u001b[39;00m\n\u001b[1;32m-> 3251\u001b[0m     \u001b[39mreturn\u001b[39;00m \u001b[39mself\u001b[39;49m\u001b[39m.\u001b[39;49m_connection_cls(\u001b[39mself\u001b[39;49m)\n",
      "File \u001b[1;32ml:\\Programms\\Python\\lib\\site-packages\\sqlalchemy\\engine\\base.py:147\u001b[0m, in \u001b[0;36mConnection.__init__\u001b[1;34m(self, engine, connection, _has_events, _allow_revalidate, _allow_autobegin)\u001b[0m\n\u001b[0;32m    145\u001b[0m         \u001b[39mself\u001b[39m\u001b[39m.\u001b[39m_dbapi_connection \u001b[39m=\u001b[39m engine\u001b[39m.\u001b[39mraw_connection()\n\u001b[0;32m    146\u001b[0m     \u001b[39mexcept\u001b[39;00m dialect\u001b[39m.\u001b[39mloaded_dbapi\u001b[39m.\u001b[39mError \u001b[39mas\u001b[39;00m err:\n\u001b[1;32m--> 147\u001b[0m         Connection\u001b[39m.\u001b[39;49m_handle_dbapi_exception_noconnection(\n\u001b[0;32m    148\u001b[0m             err, dialect, engine\n\u001b[0;32m    149\u001b[0m         )\n\u001b[0;32m    150\u001b[0m         \u001b[39mraise\u001b[39;00m\n\u001b[0;32m    151\u001b[0m \u001b[39melse\u001b[39;00m:\n",
      "File \u001b[1;32ml:\\Programms\\Python\\lib\\site-packages\\sqlalchemy\\engine\\base.py:2413\u001b[0m, in \u001b[0;36mConnection._handle_dbapi_exception_noconnection\u001b[1;34m(cls, e, dialect, engine, is_disconnect, invalidate_pool_on_disconnect, is_pre_ping)\u001b[0m\n\u001b[0;32m   2411\u001b[0m \u001b[39melif\u001b[39;00m should_wrap:\n\u001b[0;32m   2412\u001b[0m     \u001b[39massert\u001b[39;00m sqlalchemy_exception \u001b[39mis\u001b[39;00m \u001b[39mnot\u001b[39;00m \u001b[39mNone\u001b[39;00m\n\u001b[1;32m-> 2413\u001b[0m     \u001b[39mraise\u001b[39;00m sqlalchemy_exception\u001b[39m.\u001b[39mwith_traceback(exc_info[\u001b[39m2\u001b[39m]) \u001b[39mfrom\u001b[39;00m \u001b[39me\u001b[39;00m\n\u001b[0;32m   2414\u001b[0m \u001b[39melse\u001b[39;00m:\n\u001b[0;32m   2415\u001b[0m     \u001b[39massert\u001b[39;00m exc_info[\u001b[39m1\u001b[39m] \u001b[39mis\u001b[39;00m \u001b[39mnot\u001b[39;00m \u001b[39mNone\u001b[39;00m\n",
      "File \u001b[1;32ml:\\Programms\\Python\\lib\\site-packages\\sqlalchemy\\engine\\base.py:145\u001b[0m, in \u001b[0;36mConnection.__init__\u001b[1;34m(self, engine, connection, _has_events, _allow_revalidate, _allow_autobegin)\u001b[0m\n\u001b[0;32m    143\u001b[0m \u001b[39mif\u001b[39;00m connection \u001b[39mis\u001b[39;00m \u001b[39mNone\u001b[39;00m:\n\u001b[0;32m    144\u001b[0m     \u001b[39mtry\u001b[39;00m:\n\u001b[1;32m--> 145\u001b[0m         \u001b[39mself\u001b[39m\u001b[39m.\u001b[39m_dbapi_connection \u001b[39m=\u001b[39m engine\u001b[39m.\u001b[39;49mraw_connection()\n\u001b[0;32m    146\u001b[0m     \u001b[39mexcept\u001b[39;00m dialect\u001b[39m.\u001b[39mloaded_dbapi\u001b[39m.\u001b[39mError \u001b[39mas\u001b[39;00m err:\n\u001b[0;32m    147\u001b[0m         Connection\u001b[39m.\u001b[39m_handle_dbapi_exception_noconnection(\n\u001b[0;32m    148\u001b[0m             err, dialect, engine\n\u001b[0;32m    149\u001b[0m         )\n",
      "File \u001b[1;32ml:\\Programms\\Python\\lib\\site-packages\\sqlalchemy\\engine\\base.py:3275\u001b[0m, in \u001b[0;36mEngine.raw_connection\u001b[1;34m(self)\u001b[0m\n\u001b[0;32m   3253\u001b[0m \u001b[39mdef\u001b[39;00m \u001b[39mraw_connection\u001b[39m(\u001b[39mself\u001b[39m) \u001b[39m-\u001b[39m\u001b[39m>\u001b[39m PoolProxiedConnection:\n\u001b[0;32m   3254\u001b[0m \u001b[39m    \u001b[39m\u001b[39m\"\"\"Return a \"raw\" DBAPI connection from the connection pool.\u001b[39;00m\n\u001b[0;32m   3255\u001b[0m \n\u001b[0;32m   3256\u001b[0m \u001b[39m    The returned object is a proxied version of the DBAPI\u001b[39;00m\n\u001b[1;32m   (...)\u001b[0m\n\u001b[0;32m   3273\u001b[0m \n\u001b[0;32m   3274\u001b[0m \u001b[39m    \"\"\"\u001b[39;00m\n\u001b[1;32m-> 3275\u001b[0m     \u001b[39mreturn\u001b[39;00m \u001b[39mself\u001b[39;49m\u001b[39m.\u001b[39;49mpool\u001b[39m.\u001b[39;49mconnect()\n",
      "File \u001b[1;32ml:\\Programms\\Python\\lib\\site-packages\\sqlalchemy\\pool\\base.py:455\u001b[0m, in \u001b[0;36mPool.connect\u001b[1;34m(self)\u001b[0m\n\u001b[0;32m    447\u001b[0m \u001b[39mdef\u001b[39;00m \u001b[39mconnect\u001b[39m(\u001b[39mself\u001b[39m) \u001b[39m-\u001b[39m\u001b[39m>\u001b[39m PoolProxiedConnection:\n\u001b[0;32m    448\u001b[0m \u001b[39m    \u001b[39m\u001b[39m\"\"\"Return a DBAPI connection from the pool.\u001b[39;00m\n\u001b[0;32m    449\u001b[0m \n\u001b[0;32m    450\u001b[0m \u001b[39m    The connection is instrumented such that when its\u001b[39;00m\n\u001b[1;32m   (...)\u001b[0m\n\u001b[0;32m    453\u001b[0m \n\u001b[0;32m    454\u001b[0m \u001b[39m    \"\"\"\u001b[39;00m\n\u001b[1;32m--> 455\u001b[0m     \u001b[39mreturn\u001b[39;00m _ConnectionFairy\u001b[39m.\u001b[39;49m_checkout(\u001b[39mself\u001b[39;49m)\n",
      "File \u001b[1;32ml:\\Programms\\Python\\lib\\site-packages\\sqlalchemy\\pool\\base.py:1271\u001b[0m, in \u001b[0;36m_ConnectionFairy._checkout\u001b[1;34m(cls, pool, threadconns, fairy)\u001b[0m\n\u001b[0;32m   1262\u001b[0m \u001b[39m@classmethod\u001b[39m\n\u001b[0;32m   1263\u001b[0m \u001b[39mdef\u001b[39;00m \u001b[39m_checkout\u001b[39m(\n\u001b[0;32m   1264\u001b[0m     \u001b[39mcls\u001b[39m,\n\u001b[1;32m   (...)\u001b[0m\n\u001b[0;32m   1267\u001b[0m     fairy: Optional[_ConnectionFairy] \u001b[39m=\u001b[39m \u001b[39mNone\u001b[39;00m,\n\u001b[0;32m   1268\u001b[0m ) \u001b[39m-\u001b[39m\u001b[39m>\u001b[39m _ConnectionFairy:\n\u001b[0;32m   1270\u001b[0m     \u001b[39mif\u001b[39;00m \u001b[39mnot\u001b[39;00m fairy:\n\u001b[1;32m-> 1271\u001b[0m         fairy \u001b[39m=\u001b[39m _ConnectionRecord\u001b[39m.\u001b[39;49mcheckout(pool)\n\u001b[0;32m   1273\u001b[0m         \u001b[39mif\u001b[39;00m threadconns \u001b[39mis\u001b[39;00m \u001b[39mnot\u001b[39;00m \u001b[39mNone\u001b[39;00m:\n\u001b[0;32m   1274\u001b[0m             threadconns\u001b[39m.\u001b[39mcurrent \u001b[39m=\u001b[39m weakref\u001b[39m.\u001b[39mref(fairy)\n",
      "File \u001b[1;32ml:\\Programms\\Python\\lib\\site-packages\\sqlalchemy\\pool\\base.py:719\u001b[0m, in \u001b[0;36m_ConnectionRecord.checkout\u001b[1;34m(cls, pool)\u001b[0m\n\u001b[0;32m    717\u001b[0m     rec \u001b[39m=\u001b[39m cast(_ConnectionRecord, pool\u001b[39m.\u001b[39m_do_get())\n\u001b[0;32m    718\u001b[0m \u001b[39melse\u001b[39;00m:\n\u001b[1;32m--> 719\u001b[0m     rec \u001b[39m=\u001b[39m pool\u001b[39m.\u001b[39;49m_do_get()\n\u001b[0;32m    721\u001b[0m \u001b[39mtry\u001b[39;00m:\n\u001b[0;32m    722\u001b[0m     dbapi_connection \u001b[39m=\u001b[39m rec\u001b[39m.\u001b[39mget_connection()\n",
      "File \u001b[1;32ml:\\Programms\\Python\\lib\\site-packages\\sqlalchemy\\pool\\impl.py:168\u001b[0m, in \u001b[0;36mQueuePool._do_get\u001b[1;34m(self)\u001b[0m\n\u001b[0;32m    166\u001b[0m     \u001b[39mreturn\u001b[39;00m \u001b[39mself\u001b[39m\u001b[39m.\u001b[39m_create_connection()\n\u001b[0;32m    167\u001b[0m \u001b[39mexcept\u001b[39;00m:\n\u001b[1;32m--> 168\u001b[0m     \u001b[39mwith\u001b[39;00m util\u001b[39m.\u001b[39msafe_reraise():\n\u001b[0;32m    169\u001b[0m         \u001b[39mself\u001b[39m\u001b[39m.\u001b[39m_dec_overflow()\n\u001b[0;32m    170\u001b[0m     \u001b[39mraise\u001b[39;00m\n",
      "File \u001b[1;32ml:\\Programms\\Python\\lib\\site-packages\\sqlalchemy\\util\\langhelpers.py:147\u001b[0m, in \u001b[0;36msafe_reraise.__exit__\u001b[1;34m(self, type_, value, traceback)\u001b[0m\n\u001b[0;32m    145\u001b[0m     \u001b[39massert\u001b[39;00m exc_value \u001b[39mis\u001b[39;00m \u001b[39mnot\u001b[39;00m \u001b[39mNone\u001b[39;00m\n\u001b[0;32m    146\u001b[0m     \u001b[39mself\u001b[39m\u001b[39m.\u001b[39m_exc_info \u001b[39m=\u001b[39m \u001b[39mNone\u001b[39;00m  \u001b[39m# remove potential circular references\u001b[39;00m\n\u001b[1;32m--> 147\u001b[0m     \u001b[39mraise\u001b[39;00m exc_value\u001b[39m.\u001b[39mwith_traceback(exc_tb)\n\u001b[0;32m    148\u001b[0m \u001b[39melse\u001b[39;00m:\n\u001b[0;32m    149\u001b[0m     \u001b[39mself\u001b[39m\u001b[39m.\u001b[39m_exc_info \u001b[39m=\u001b[39m \u001b[39mNone\u001b[39;00m  \u001b[39m# remove potential circular references\u001b[39;00m\n",
      "File \u001b[1;32ml:\\Programms\\Python\\lib\\site-packages\\sqlalchemy\\pool\\impl.py:166\u001b[0m, in \u001b[0;36mQueuePool._do_get\u001b[1;34m(self)\u001b[0m\n\u001b[0;32m    164\u001b[0m \u001b[39mif\u001b[39;00m \u001b[39mself\u001b[39m\u001b[39m.\u001b[39m_inc_overflow():\n\u001b[0;32m    165\u001b[0m     \u001b[39mtry\u001b[39;00m:\n\u001b[1;32m--> 166\u001b[0m         \u001b[39mreturn\u001b[39;00m \u001b[39mself\u001b[39;49m\u001b[39m.\u001b[39;49m_create_connection()\n\u001b[0;32m    167\u001b[0m     \u001b[39mexcept\u001b[39;00m:\n\u001b[0;32m    168\u001b[0m         \u001b[39mwith\u001b[39;00m util\u001b[39m.\u001b[39msafe_reraise():\n",
      "File \u001b[1;32ml:\\Programms\\Python\\lib\\site-packages\\sqlalchemy\\pool\\base.py:396\u001b[0m, in \u001b[0;36mPool._create_connection\u001b[1;34m(self)\u001b[0m\n\u001b[0;32m    393\u001b[0m \u001b[39mdef\u001b[39;00m \u001b[39m_create_connection\u001b[39m(\u001b[39mself\u001b[39m) \u001b[39m-\u001b[39m\u001b[39m>\u001b[39m ConnectionPoolEntry:\n\u001b[0;32m    394\u001b[0m \u001b[39m    \u001b[39m\u001b[39m\"\"\"Called by subclasses to create a new ConnectionRecord.\"\"\"\u001b[39;00m\n\u001b[1;32m--> 396\u001b[0m     \u001b[39mreturn\u001b[39;00m _ConnectionRecord(\u001b[39mself\u001b[39;49m)\n",
      "File \u001b[1;32ml:\\Programms\\Python\\lib\\site-packages\\sqlalchemy\\pool\\base.py:681\u001b[0m, in \u001b[0;36m_ConnectionRecord.__init__\u001b[1;34m(self, pool, connect)\u001b[0m\n\u001b[0;32m    679\u001b[0m \u001b[39mself\u001b[39m\u001b[39m.\u001b[39m__pool \u001b[39m=\u001b[39m pool\n\u001b[0;32m    680\u001b[0m \u001b[39mif\u001b[39;00m connect:\n\u001b[1;32m--> 681\u001b[0m     \u001b[39mself\u001b[39;49m\u001b[39m.\u001b[39;49m__connect()\n\u001b[0;32m    682\u001b[0m \u001b[39mself\u001b[39m\u001b[39m.\u001b[39mfinalize_callback \u001b[39m=\u001b[39m deque()\n",
      "File \u001b[1;32ml:\\Programms\\Python\\lib\\site-packages\\sqlalchemy\\pool\\base.py:905\u001b[0m, in \u001b[0;36m_ConnectionRecord.__connect\u001b[1;34m(self)\u001b[0m\n\u001b[0;32m    903\u001b[0m     \u001b[39mself\u001b[39m\u001b[39m.\u001b[39mfresh \u001b[39m=\u001b[39m \u001b[39mTrue\u001b[39;00m\n\u001b[0;32m    904\u001b[0m \u001b[39mexcept\u001b[39;00m \u001b[39mBaseException\u001b[39;00m \u001b[39mas\u001b[39;00m e:\n\u001b[1;32m--> 905\u001b[0m     \u001b[39mwith\u001b[39;00m util\u001b[39m.\u001b[39msafe_reraise():\n\u001b[0;32m    906\u001b[0m         pool\u001b[39m.\u001b[39mlogger\u001b[39m.\u001b[39mdebug(\u001b[39m\"\u001b[39m\u001b[39mError on connect(): \u001b[39m\u001b[39m%s\u001b[39;00m\u001b[39m\"\u001b[39m, e)\n\u001b[0;32m    907\u001b[0m \u001b[39melse\u001b[39;00m:\n\u001b[0;32m    908\u001b[0m     \u001b[39m# in SQLAlchemy 1.4 the first_connect event is not used by\u001b[39;00m\n\u001b[0;32m    909\u001b[0m     \u001b[39m# the engine, so this will usually not be set\u001b[39;00m\n",
      "File \u001b[1;32ml:\\Programms\\Python\\lib\\site-packages\\sqlalchemy\\util\\langhelpers.py:147\u001b[0m, in \u001b[0;36msafe_reraise.__exit__\u001b[1;34m(self, type_, value, traceback)\u001b[0m\n\u001b[0;32m    145\u001b[0m     \u001b[39massert\u001b[39;00m exc_value \u001b[39mis\u001b[39;00m \u001b[39mnot\u001b[39;00m \u001b[39mNone\u001b[39;00m\n\u001b[0;32m    146\u001b[0m     \u001b[39mself\u001b[39m\u001b[39m.\u001b[39m_exc_info \u001b[39m=\u001b[39m \u001b[39mNone\u001b[39;00m  \u001b[39m# remove potential circular references\u001b[39;00m\n\u001b[1;32m--> 147\u001b[0m     \u001b[39mraise\u001b[39;00m exc_value\u001b[39m.\u001b[39mwith_traceback(exc_tb)\n\u001b[0;32m    148\u001b[0m \u001b[39melse\u001b[39;00m:\n\u001b[0;32m    149\u001b[0m     \u001b[39mself\u001b[39m\u001b[39m.\u001b[39m_exc_info \u001b[39m=\u001b[39m \u001b[39mNone\u001b[39;00m  \u001b[39m# remove potential circular references\u001b[39;00m\n",
      "File \u001b[1;32ml:\\Programms\\Python\\lib\\site-packages\\sqlalchemy\\pool\\base.py:901\u001b[0m, in \u001b[0;36m_ConnectionRecord.__connect\u001b[1;34m(self)\u001b[0m\n\u001b[0;32m    899\u001b[0m \u001b[39mtry\u001b[39;00m:\n\u001b[0;32m    900\u001b[0m     \u001b[39mself\u001b[39m\u001b[39m.\u001b[39mstarttime \u001b[39m=\u001b[39m time\u001b[39m.\u001b[39mtime()\n\u001b[1;32m--> 901\u001b[0m     \u001b[39mself\u001b[39m\u001b[39m.\u001b[39mdbapi_connection \u001b[39m=\u001b[39m connection \u001b[39m=\u001b[39m pool\u001b[39m.\u001b[39;49m_invoke_creator(\u001b[39mself\u001b[39;49m)\n\u001b[0;32m    902\u001b[0m     pool\u001b[39m.\u001b[39mlogger\u001b[39m.\u001b[39mdebug(\u001b[39m\"\u001b[39m\u001b[39mCreated new connection \u001b[39m\u001b[39m%r\u001b[39;00m\u001b[39m\"\u001b[39m, connection)\n\u001b[0;32m    903\u001b[0m     \u001b[39mself\u001b[39m\u001b[39m.\u001b[39mfresh \u001b[39m=\u001b[39m \u001b[39mTrue\u001b[39;00m\n",
      "File \u001b[1;32ml:\\Programms\\Python\\lib\\site-packages\\sqlalchemy\\engine\\create.py:636\u001b[0m, in \u001b[0;36mcreate_engine.<locals>.connect\u001b[1;34m(connection_record)\u001b[0m\n\u001b[0;32m    633\u001b[0m         \u001b[39mif\u001b[39;00m connection \u001b[39mis\u001b[39;00m \u001b[39mnot\u001b[39;00m \u001b[39mNone\u001b[39;00m:\n\u001b[0;32m    634\u001b[0m             \u001b[39mreturn\u001b[39;00m connection\n\u001b[1;32m--> 636\u001b[0m \u001b[39mreturn\u001b[39;00m dialect\u001b[39m.\u001b[39mconnect(\u001b[39m*\u001b[39mcargs, \u001b[39m*\u001b[39m\u001b[39m*\u001b[39mcparams)\n",
      "File \u001b[1;32ml:\\Programms\\Python\\lib\\site-packages\\sqlalchemy\\engine\\default.py:580\u001b[0m, in \u001b[0;36mDefaultDialect.connect\u001b[1;34m(self, *cargs, **cparams)\u001b[0m\n\u001b[0;32m    578\u001b[0m \u001b[39mdef\u001b[39;00m \u001b[39mconnect\u001b[39m(\u001b[39mself\u001b[39m, \u001b[39m*\u001b[39mcargs, \u001b[39m*\u001b[39m\u001b[39m*\u001b[39mcparams):\n\u001b[0;32m    579\u001b[0m     \u001b[39m# inherits the docstring from interfaces.Dialect.connect\u001b[39;00m\n\u001b[1;32m--> 580\u001b[0m     \u001b[39mreturn\u001b[39;00m \u001b[39mself\u001b[39m\u001b[39m.\u001b[39mloaded_dbapi\u001b[39m.\u001b[39mconnect(\u001b[39m*\u001b[39mcargs, \u001b[39m*\u001b[39m\u001b[39m*\u001b[39mcparams)\n",
      "File \u001b[1;32ml:\\Programms\\Python\\lib\\site-packages\\pymysql\\connections.py:353\u001b[0m, in \u001b[0;36mConnection.__init__\u001b[1;34m(self, user, password, host, database, unix_socket, port, charset, sql_mode, read_default_file, conv, use_unicode, client_flag, cursorclass, init_command, connect_timeout, read_default_group, autocommit, local_infile, max_allowed_packet, defer_connect, auth_plugin_map, read_timeout, write_timeout, bind_address, binary_prefix, program_name, server_public_key, ssl, ssl_ca, ssl_cert, ssl_disabled, ssl_key, ssl_verify_cert, ssl_verify_identity, compress, named_pipe, passwd, db)\u001b[0m\n\u001b[0;32m    351\u001b[0m     \u001b[39mself\u001b[39m\u001b[39m.\u001b[39m_sock \u001b[39m=\u001b[39m \u001b[39mNone\u001b[39;00m\n\u001b[0;32m    352\u001b[0m \u001b[39melse\u001b[39;00m:\n\u001b[1;32m--> 353\u001b[0m     \u001b[39mself\u001b[39;49m\u001b[39m.\u001b[39;49mconnect()\n",
      "File \u001b[1;32ml:\\Programms\\Python\\lib\\site-packages\\pymysql\\connections.py:633\u001b[0m, in \u001b[0;36mConnection.connect\u001b[1;34m(self, sock)\u001b[0m\n\u001b[0;32m    630\u001b[0m \u001b[39mself\u001b[39m\u001b[39m.\u001b[39m_next_seq_id \u001b[39m=\u001b[39m \u001b[39m0\u001b[39m\n\u001b[0;32m    632\u001b[0m \u001b[39mself\u001b[39m\u001b[39m.\u001b[39m_get_server_information()\n\u001b[1;32m--> 633\u001b[0m \u001b[39mself\u001b[39;49m\u001b[39m.\u001b[39;49m_request_authentication()\n\u001b[0;32m    635\u001b[0m \u001b[39mif\u001b[39;00m \u001b[39mself\u001b[39m\u001b[39m.\u001b[39msql_mode \u001b[39mis\u001b[39;00m \u001b[39mnot\u001b[39;00m \u001b[39mNone\u001b[39;00m:\n\u001b[0;32m    636\u001b[0m     c \u001b[39m=\u001b[39m \u001b[39mself\u001b[39m\u001b[39m.\u001b[39mcursor()\n",
      "File \u001b[1;32ml:\\Programms\\Python\\lib\\site-packages\\pymysql\\connections.py:907\u001b[0m, in \u001b[0;36mConnection._request_authentication\u001b[1;34m(self)\u001b[0m\n\u001b[0;32m    904\u001b[0m     data \u001b[39m+\u001b[39m\u001b[39m=\u001b[39m struct\u001b[39m.\u001b[39mpack(\u001b[39m\"\u001b[39m\u001b[39mB\u001b[39m\u001b[39m\"\u001b[39m, \u001b[39mlen\u001b[39m(connect_attrs)) \u001b[39m+\u001b[39m connect_attrs\n\u001b[0;32m    906\u001b[0m \u001b[39mself\u001b[39m\u001b[39m.\u001b[39mwrite_packet(data)\n\u001b[1;32m--> 907\u001b[0m auth_packet \u001b[39m=\u001b[39m \u001b[39mself\u001b[39;49m\u001b[39m.\u001b[39;49m_read_packet()\n\u001b[0;32m    909\u001b[0m \u001b[39m# if authentication method isn't accepted the first byte\u001b[39;00m\n\u001b[0;32m    910\u001b[0m \u001b[39m# will have the octet 254\u001b[39;00m\n\u001b[0;32m    911\u001b[0m \u001b[39mif\u001b[39;00m auth_packet\u001b[39m.\u001b[39mis_auth_switch_request():\n",
      "File \u001b[1;32ml:\\Programms\\Python\\lib\\site-packages\\pymysql\\connections.py:725\u001b[0m, in \u001b[0;36mConnection._read_packet\u001b[1;34m(self, packet_type)\u001b[0m\n\u001b[0;32m    723\u001b[0m     \u001b[39mif\u001b[39;00m \u001b[39mself\u001b[39m\u001b[39m.\u001b[39m_result \u001b[39mis\u001b[39;00m \u001b[39mnot\u001b[39;00m \u001b[39mNone\u001b[39;00m \u001b[39mand\u001b[39;00m \u001b[39mself\u001b[39m\u001b[39m.\u001b[39m_result\u001b[39m.\u001b[39munbuffered_active \u001b[39mis\u001b[39;00m \u001b[39mTrue\u001b[39;00m:\n\u001b[0;32m    724\u001b[0m         \u001b[39mself\u001b[39m\u001b[39m.\u001b[39m_result\u001b[39m.\u001b[39munbuffered_active \u001b[39m=\u001b[39m \u001b[39mFalse\u001b[39;00m\n\u001b[1;32m--> 725\u001b[0m     packet\u001b[39m.\u001b[39;49mraise_for_error()\n\u001b[0;32m    726\u001b[0m \u001b[39mreturn\u001b[39;00m packet\n",
      "File \u001b[1;32ml:\\Programms\\Python\\lib\\site-packages\\pymysql\\protocol.py:221\u001b[0m, in \u001b[0;36mMysqlPacket.raise_for_error\u001b[1;34m(self)\u001b[0m\n\u001b[0;32m    219\u001b[0m \u001b[39mif\u001b[39;00m DEBUG:\n\u001b[0;32m    220\u001b[0m     \u001b[39mprint\u001b[39m(\u001b[39m\"\u001b[39m\u001b[39merrno =\u001b[39m\u001b[39m\"\u001b[39m, errno)\n\u001b[1;32m--> 221\u001b[0m err\u001b[39m.\u001b[39;49mraise_mysql_exception(\u001b[39mself\u001b[39;49m\u001b[39m.\u001b[39;49m_data)\n",
      "File \u001b[1;32ml:\\Programms\\Python\\lib\\site-packages\\pymysql\\err.py:143\u001b[0m, in \u001b[0;36mraise_mysql_exception\u001b[1;34m(data)\u001b[0m\n\u001b[0;32m    141\u001b[0m \u001b[39mif\u001b[39;00m errorclass \u001b[39mis\u001b[39;00m \u001b[39mNone\u001b[39;00m:\n\u001b[0;32m    142\u001b[0m     errorclass \u001b[39m=\u001b[39m InternalError \u001b[39mif\u001b[39;00m errno \u001b[39m<\u001b[39m \u001b[39m1000\u001b[39m \u001b[39melse\u001b[39;00m OperationalError\n\u001b[1;32m--> 143\u001b[0m \u001b[39mraise\u001b[39;00m errorclass(errno, errval)\n",
      "\u001b[1;31mOperationalError\u001b[0m: (pymysql.err.OperationalError) (1045, \"Access denied for user 'test_user'@'192.168.1.11' (using password: YES)\")\n(Background on this error at: https://sqlalche.me/e/20/e3q8)"
     ]
    }
   ],
   "source": [
    "# session = sessionmaker(bind = engine)\n",
    "connection = engine.connect()"
   ]
  },
  {
   "cell_type": "code",
   "execution_count": null,
   "metadata": {},
   "outputs": [],
   "source": [
    "# my_table = sqlalchemy.Table(name = 'TEST_TAB', metadata = meta)\n",
    "my_table = sqlalchemy.Table('TEST_TAB', meta)\n",
    "\n",
    "# print(session.query(my_table).all())\n",
    "\n"
   ]
  },
  {
   "cell_type": "code",
   "execution_count": null,
   "metadata": {},
   "outputs": [],
   "source": [
    "query = sqlalchemy.select(my_table.columns)\n",
    "result = "
   ]
  },
  {
   "cell_type": "code",
   "execution_count": null,
   "metadata": {},
   "outputs": [],
   "source": [
    "user = User(name='John', age=25)\n",
    "session.add(user)\n",
    "session.commit()\n",
    "\n",
    "# Получение записи\n",
    "user = session.query(User).filter_by(name='John').first()\n",
    "print(user.name, user.age)\n",
    "\n",
    "# Изменение записи\n",
    "user.age = 30\n",
    "session.commit()\n",
    "\n",
    "# Удаление записи\n",
    "session.delete(user)\n",
    "session.commit()\n",
    "   "
   ]
  },
  {
   "cell_type": "code",
   "execution_count": null,
   "metadata": {},
   "outputs": [
    {
     "ename": "OperationalError",
     "evalue": "(2003, \"Can't connect to MySQL server on '192.168.0.1' (timed out)\")",
     "output_type": "error",
     "traceback": [
      "\u001b[1;31m---------------------------------------------------------------------------\u001b[0m",
      "\u001b[1;31mTimeoutError\u001b[0m                              Traceback (most recent call last)",
      "File \u001b[1;32ml:\\Programms\\Python\\lib\\site-packages\\pymysql\\connections.py:613\u001b[0m, in \u001b[0;36mConnection.connect\u001b[1;34m(self, sock)\u001b[0m\n\u001b[0;32m    612\u001b[0m \u001b[39mtry\u001b[39;00m:\n\u001b[1;32m--> 613\u001b[0m     sock \u001b[39m=\u001b[39m socket\u001b[39m.\u001b[39mcreate_connection(\n\u001b[0;32m    614\u001b[0m         (\u001b[39mself\u001b[39m\u001b[39m.\u001b[39mhost, \u001b[39mself\u001b[39m\u001b[39m.\u001b[39mport), \u001b[39mself\u001b[39m\u001b[39m.\u001b[39mconnect_timeout, \u001b[39m*\u001b[39m\u001b[39m*\u001b[39mkwargs\n\u001b[0;32m    615\u001b[0m     )\n\u001b[0;32m    616\u001b[0m     \u001b[39mbreak\u001b[39;00m\n",
      "File \u001b[1;32ml:\\Programms\\Python\\lib\\socket.py:845\u001b[0m, in \u001b[0;36mcreate_connection\u001b[1;34m(address, timeout, source_address)\u001b[0m\n\u001b[0;32m    844\u001b[0m \u001b[39mtry\u001b[39;00m:\n\u001b[1;32m--> 845\u001b[0m     \u001b[39mraise\u001b[39;00m err\n\u001b[0;32m    846\u001b[0m \u001b[39mfinally\u001b[39;00m:\n\u001b[0;32m    847\u001b[0m     \u001b[39m# Break explicitly a reference cycle\u001b[39;00m\n",
      "File \u001b[1;32ml:\\Programms\\Python\\lib\\socket.py:833\u001b[0m, in \u001b[0;36mcreate_connection\u001b[1;34m(address, timeout, source_address)\u001b[0m\n\u001b[0;32m    832\u001b[0m     sock\u001b[39m.\u001b[39mbind(source_address)\n\u001b[1;32m--> 833\u001b[0m sock\u001b[39m.\u001b[39;49mconnect(sa)\n\u001b[0;32m    834\u001b[0m \u001b[39m# Break explicitly a reference cycle\u001b[39;00m\n",
      "\u001b[1;31mTimeoutError\u001b[0m: timed out",
      "\nDuring handling of the above exception, another exception occurred:\n",
      "\u001b[1;31mOperationalError\u001b[0m                          Traceback (most recent call last)",
      "Cell \u001b[1;32mIn[7], line 8\u001b[0m\n\u001b[0;32m      5\u001b[0m database \u001b[39m=\u001b[39m \u001b[39m'\u001b[39m\u001b[39mTEST\u001b[39m\u001b[39m'\u001b[39m\n\u001b[0;32m      7\u001b[0m \u001b[39m# Подключаемся к базе данных\u001b[39;00m\n\u001b[1;32m----> 8\u001b[0m connection \u001b[39m=\u001b[39m pymysql\u001b[39m.\u001b[39;49mconnect(host\u001b[39m=\u001b[39;49mhost,\n\u001b[0;32m      9\u001b[0m                              user\u001b[39m=\u001b[39;49muser,\n\u001b[0;32m     10\u001b[0m                              password\u001b[39m=\u001b[39;49mpassword,\n\u001b[0;32m     11\u001b[0m                              database\u001b[39m=\u001b[39;49mdatabase)\n",
      "File \u001b[1;32ml:\\Programms\\Python\\lib\\site-packages\\pymysql\\connections.py:353\u001b[0m, in \u001b[0;36mConnection.__init__\u001b[1;34m(self, user, password, host, database, unix_socket, port, charset, sql_mode, read_default_file, conv, use_unicode, client_flag, cursorclass, init_command, connect_timeout, read_default_group, autocommit, local_infile, max_allowed_packet, defer_connect, auth_plugin_map, read_timeout, write_timeout, bind_address, binary_prefix, program_name, server_public_key, ssl, ssl_ca, ssl_cert, ssl_disabled, ssl_key, ssl_verify_cert, ssl_verify_identity, compress, named_pipe, passwd, db)\u001b[0m\n\u001b[0;32m    351\u001b[0m     \u001b[39mself\u001b[39m\u001b[39m.\u001b[39m_sock \u001b[39m=\u001b[39m \u001b[39mNone\u001b[39;00m\n\u001b[0;32m    352\u001b[0m \u001b[39melse\u001b[39;00m:\n\u001b[1;32m--> 353\u001b[0m     \u001b[39mself\u001b[39;49m\u001b[39m.\u001b[39;49mconnect()\n",
      "File \u001b[1;32ml:\\Programms\\Python\\lib\\site-packages\\pymysql\\connections.py:664\u001b[0m, in \u001b[0;36mConnection.connect\u001b[1;34m(self, sock)\u001b[0m\n\u001b[0;32m    662\u001b[0m     \u001b[39mif\u001b[39;00m DEBUG:\n\u001b[0;32m    663\u001b[0m         \u001b[39mprint\u001b[39m(exc\u001b[39m.\u001b[39mtraceback)\n\u001b[1;32m--> 664\u001b[0m     \u001b[39mraise\u001b[39;00m exc\n\u001b[0;32m    666\u001b[0m \u001b[39m# If e is neither DatabaseError or IOError, It's a bug.\u001b[39;00m\n\u001b[0;32m    667\u001b[0m \u001b[39m# But raising AssertionError hides original error.\u001b[39;00m\n\u001b[0;32m    668\u001b[0m \u001b[39m# So just reraise it.\u001b[39;00m\n\u001b[0;32m    669\u001b[0m \u001b[39mraise\u001b[39;00m\n",
      "\u001b[1;31mOperationalError\u001b[0m: (2003, \"Can't connect to MySQL server on '192.168.0.1' (timed out)\")"
     ]
    }
   ],
   "source": [
    "\n",
    "# Устанавливаем параметры подключения\n",
    "host = 'localhost'\n",
    "user = 'test_user'\n",
    "password = '12345678'\n",
    "database = 'TEST'\n",
    "\n",
    "# Подключаемся к базе данных\n",
    "connection = pymysql.connect(host=host,\n",
    "                             user=user,\n",
    "                             password=password,\n",
    "                             database=database)\n",
    "\n"
   ]
  },
  {
   "cell_type": "code",
   "execution_count": null,
   "metadata": {},
   "outputs": [],
   "source": [
    "# Создаем курсор для выполнения запросов\n",
    "cursor = connection.cursor()\n",
    "\n"
   ]
  },
  {
   "cell_type": "code",
   "execution_count": null,
   "metadata": {},
   "outputs": [],
   "source": [
    "# Выполняем SELECT запрос\n",
    "query = \"SELECT * FROM mytable\"\n",
    "cursor.execute(query)\n",
    "\n",
    "# Получаем результаты запроса\n",
    "results = cursor.fetchall()\n",
    "for row in results:\n",
    "    print(row)\n",
    "\n",
    "# Закрываем соединение\n",
    "connection.close()"
   ]
  },
  {
   "cell_type": "code",
   "execution_count": null,
   "metadata": {},
   "outputs": [],
   "source": [
    "from bs4 import BeautifulSoup as bs\n",
    "import requests\n",
    "from fake_useragent import UserAgent\n"
   ]
  },
  {
   "cell_type": "code",
   "execution_count": null,
   "metadata": {},
   "outputs": [
    {
     "name": "stdout",
     "output_type": "stream",
     "text": [
      "<Response [403]>\n",
      "ItemsView({'User-Agent': 'python-requests/2.28.1', 'Accept-Encoding': 'gzip, deflate', 'Accept': '*/*', 'Connection': 'keep-alive'})\n",
      "None\n"
     ]
    },
    {
     "ename": "AttributeError",
     "evalue": "'NoneType' object has no attribute 'text'",
     "output_type": "error",
     "traceback": [
      "\u001b[1;31m---------------------------------------------------------------------------\u001b[0m",
      "\u001b[1;31mAttributeError\u001b[0m                            Traceback (most recent call last)",
      "Cell \u001b[1;32mIn[30], line 22\u001b[0m\n\u001b[0;32m     19\u001b[0m \u001b[39mprint\u001b[39m(headers)\n\u001b[0;32m     21\u001b[0m \u001b[39m# вывод всех заголовков на странице\u001b[39;00m\n\u001b[1;32m---> 22\u001b[0m \u001b[39mprint\u001b[39m(headers\u001b[39m.\u001b[39;49mtext)\n",
      "\u001b[1;31mAttributeError\u001b[0m: 'NoneType' object has no attribute 'text'"
     ]
    }
   ],
   "source": [
    "# URL страницы, которую мы будем анализировать\n",
    "url = 'https://ru.investing.com/crypto/'\n",
    "\n",
    "\n",
    "# отправка GET запроса на сервер и сохранение ответа\n",
    "response = requests.get(url, headers = {'User-Agent' : UserAgent().chrome})\n",
    "\n",
    "\n",
    "\n",
    "# использование библиотеки BeautifulSoup для анализа html документа\n",
    "soup = bs(response.text, 'html.parser')\n",
    "\n",
    "print(requests.get(url).request.headers.items())\n",
    "\n",
    "# используя метод find_all для нахождения всех элементов `<h>` на странице\n",
    "headers = soup.find('a', {'href' : \"?c1=189&c2=12\"})\n",
    "\n",
    "print(headers)\n",
    "\n",
    "# вывод всех заголовков на странице\n",
    "print(headers.text)"
   ]
  },
  {
   "cell_type": "code",
   "execution_count": null,
   "metadata": {},
   "outputs": [],
   "source": []
  },
  {
   "cell_type": "code",
   "execution_count": 1,
   "metadata": {},
   "outputs": [],
   "source": [
    "import openpyxl as op\n",
    "import streamlit as st\n",
    "import sqlite3 as sq\n",
    "import pandas as pd\n",
    "import os\n",
    "\n",
    "from DB_work import DB_ORM\n",
    "\n",
    "from streamlit import *\n",
    "from openpyxl_image_loader import SheetImageLoader\n",
    "\n",
    "table_path = 'K:\\Downloads\\Загрузки Яндекс\\Прототип.xlsx'\n",
    "DB_object = DB_ORM()"
   ]
  },
  {
   "cell_type": "code",
   "execution_count": 9,
   "metadata": {},
   "outputs": [
    {
     "data": {
      "text/plain": [
       "True"
      ]
     },
     "execution_count": 9,
     "metadata": {},
     "output_type": "execute_result"
    }
   ],
   "source": [
    "# Создание таблицы устройств\n",
    "DB_object.execute(f\"\"\"\n",
    "CREATE TABLE IF NOT EXISTS УСТРОЙСТВА (\n",
    "    id serial PRIMARY KEY, \n",
    "    'Наименование' varchar NOT NULL\n",
    ")\n",
    "\"\"\", \n",
    "is_change=True)"
   ]
  },
  {
   "cell_type": "code",
   "execution_count": 4,
   "metadata": {},
   "outputs": [
    {
     "data": {
      "text/plain": [
       "True"
      ]
     },
     "execution_count": 4,
     "metadata": {},
     "output_type": "execute_result"
    }
   ],
   "source": [
    "# Создание таблицы зданий\n",
    "DB_object.execute(f\"\"\"\n",
    "CREATE TABLE IF NOT EXISTS ЗДАНИЯ (\n",
    "    id serial PRIMARY KEY, \n",
    "    'Наименование' varchar NOT NULL\n",
    ")\n",
    "\"\"\", \n",
    "is_change=True)"
   ]
  },
  {
   "cell_type": "code",
   "execution_count": 5,
   "metadata": {},
   "outputs": [
    {
     "data": {
      "text/plain": [
       "True"
      ]
     },
     "execution_count": 5,
     "metadata": {},
     "output_type": "execute_result"
    }
   ],
   "source": [
    "# Создание таблицы помещений\n",
    "DB_object.execute(f\"\"\"\n",
    "CREATE TABLE IF NOT EXISTS ПОМЕЩЕНИЯ (\n",
    "    id serial PRIMARY KEY, \n",
    "    'Номер' varchar NOT NULL\n",
    ")\n",
    "\"\"\", \n",
    "is_change=True)"
   ]
  },
  {
   "cell_type": "code",
   "execution_count": 6,
   "metadata": {},
   "outputs": [
    {
     "data": {
      "text/plain": [
       "True"
      ]
     },
     "execution_count": 6,
     "metadata": {},
     "output_type": "execute_result"
    }
   ],
   "source": [
    "# Создание таблицы \"машин\"\n",
    "DB_object.execute(f\"\"\"\n",
    "CREATE TABLE IF NOT EXISTS МАШИНЫ (\n",
    "    id serial PRIMARY KEY, \n",
    "    'Наименование' varchar NOT NULL\n",
    ")\n",
    "\"\"\", \n",
    "is_change=True)"
   ]
  },
  {
   "cell_type": "code",
   "execution_count": 7,
   "metadata": {},
   "outputs": [
    {
     "data": {
      "text/plain": [
       "True"
      ]
     },
     "execution_count": 7,
     "metadata": {},
     "output_type": "execute_result"
    }
   ],
   "source": [
    "# Создание таблицы оборудования\n",
    "DB_object.execute(f\"\"\"\n",
    "CREATE TABLE IF NOT EXISTS ОБОРУДОВАНИЕ (\n",
    "    id serial PRIMARY KEY, \n",
    "    'Наименование' varchar NOT NULL\n",
    ")\n",
    "\"\"\", \n",
    "is_change=True)\n"
   ]
  },
  {
   "cell_type": "code",
   "execution_count": 11,
   "metadata": {},
   "outputs": [
    {
     "data": {
      "text/plain": [
       "<bound method LayoutsMixin.columns of DeltaGenerator(_root_container=0, _provided_cursor=None, _parent=None, _block_type=None, _form_data=None)>"
      ]
     },
     "execution_count": 11,
     "metadata": {},
     "output_type": "execute_result"
    }
   ],
   "source": []
  },
  {
   "cell_type": "code",
   "execution_count": null,
   "metadata": {},
   "outputs": [
    {
     "data": {
      "text/plain": [
       "[]"
      ]
     },
     "execution_count": 27,
     "metadata": {},
     "output_type": "execute_result"
    }
   ],
   "source": [
    "DB_object.execute('SELECT * FROM МАШИНЫ', is_change=False)"
   ]
  },
  {
   "cell_type": "code",
   "execution_count": null,
   "metadata": {},
   "outputs": [],
   "source": []
  },
  {
   "cell_type": "code",
   "execution_count": null,
   "metadata": {},
   "outputs": [],
   "source": [
    "# Получение изображения из таблицы\n",
    "\n",
    "# #calling the image_loader\n",
    "# image_loader = SheetImageLoader(working_sheet)\n",
    "\n",
    "# #get the image (put the cell you need instead of 'A1')\n",
    "# image = image_loader.get('A1')\n",
    "\n",
    "# #showing the image\n",
    "# image.show()\n",
    "\n",
    "# #saving the image\n",
    "# image.save('my_path/image_name.jpg')"
   ]
  },
  {
   "cell_type": "code",
   "execution_count": null,
   "metadata": {},
   "outputs": [],
   "source": [
    "#loading the Excel File and the sheet\n",
    "xl_file = op.load_workbook(filename = table_path,  data_only = True)\n",
    "working_sheet = xl_file[xl_file.sheetnames[1]]      # 0 - Пикча, 1 - таблица"
   ]
  },
  {
   "cell_type": "markdown",
   "metadata": {},
   "source": []
  },
  {
   "cell_type": "code",
   "execution_count": null,
   "metadata": {},
   "outputs": [],
   "source": [
    "# data = [ [working_sheet.cell(row=row_number, column=column_number).value if working_sheet.cell(row=row_number, column=column_number).value is not None else '' for column_number in range(1, working_sheet.max_column + 1)] for row_number in range(1, working_sheet.max_row + 1)  ]\n",
    "\n",
    "data = []\n",
    "columns = []\n",
    "\n",
    "for row_number in range(1, working_sheet.max_row + 1):\n",
    "    row = {}\n",
    "    for column_number in range(1, working_sheet.max_column + 1):\n",
    "        value = working_sheet.cell(row=row_number, column=column_number).value\n",
    "        if not value:\n",
    "            continue\n",
    "\n",
    "        if row_number == 1:\n",
    "            columns.append(value)\n",
    "        else:\n",
    "            row.update({columns[column_number - 1] : value})\n",
    "\n",
    "    if row_number != 1: \n",
    "        \n",
    "        data.append(f'''INSERT INTO test_table VALUES({', '.join([ '\"' + str(row[key]).replace('\"', \"'\") + '\"' for key in row ])})''')\n",
    "        row = []\n",
    "\n",
    "\n",
    "# value=working_sheet.cell(row=row_number, column=column_number).value\n"
   ]
  },
  {
   "cell_type": "code",
   "execution_count": null,
   "metadata": {},
   "outputs": [
    {
     "name": "stdout",
     "output_type": "stream",
     "text": [
      "INSERT INTO test_table VALUES(\"МК 3\", \"3102\", \"ml-server-orion\", \"2-126-43-2\", \"ОС\", \"Извещатель охранный точечный магнитоконтактный ИО 102-2\")\n",
      "INSERT INTO test_table VALUES(\"МК 3\", \"3103\", \"ml-server-orion\", \"2-126-43-3\", \"ОС\", \"Извещатель охранный точечный магнитоконтактный ИО 102-2\")\n",
      "INSERT INTO test_table VALUES(\"МК 3\", \"3104\", \"ml-server-orion\", \"2-126-43-4\", \"ОС\", \"Извещатель охранный точечный магнитоконтактный ИО 102-2\")\n",
      "INSERT INTO test_table VALUES(\"МК 3\", \"3202\", \"ml-server-orion\", \"2-126-44-1\", \"ОС\", \"Извещатель охранный точечный магнитоконтактный ИО 102-2\")\n",
      "INSERT INTO test_table VALUES(\"МК 3\", \"3301\", \"ml-server-orion\", \"2-126-44-2\", \"ОС\", \"Извещатель охранный точечный магнитоконтактный ИО 102-2\")\n",
      "INSERT INTO test_table VALUES(\"МК 3\", \"3302\", \"ml-server-orion\", \"2-126-44-3\", \"ОС\", \"Извещатель охранный точечный магнитоконтактный ИО 102-2\")\n",
      "INSERT INTO test_table VALUES(\"МК 3\", \"3304\", \"ml-server-orion\", \"2-126-44-4\", \"ОС\", \"Извещатель охранный точечный магнитоконтактный ИО 102-2\")\n",
      "INSERT INTO test_table VALUES(\"МК 3\", \"3305\", \"ml-server-orion\", \"2-126-44-5\", \"ОС\", \"Извещатель охранный точечный магнитоконтактный ИО 102-2\")\n",
      "INSERT INTO test_table VALUES(\"МК 3\", \"3308\", \"ml-server-orion\", \"2-126-44-6\", \"ОС\", \"Извещатель охранный точечный магнитоконтактный ИО 102-2\")\n",
      "INSERT INTO test_table VALUES(\"МК 3\", \"3309\", \"ml-server-orion\", \"2-126-43-2\", \"ОС\", \"Извещатель охранный точечный магнитоконтактный ИО 102-2\")\n",
      "INSERT INTO test_table VALUES(\"МК 3\", \"3310\", \"ml-server-orion\", \"2-126-43-2\", \"ОС\", \"Извещатель охранный точечный магнитоконтактный ИО 102-2\")\n",
      "INSERT INTO test_table VALUES(\"МК 3\", \"3311\", \"ml-server-orion\", \"2-126-43-2\", \"ОС\", \"Извещатель охранный точечный магнитоконтактный ИО 102-2\")\n",
      "INSERT INTO test_table VALUES(\"МК 3\", \"3315\", \"ml-server-orion\", \"2-126-43-2\", \"ОС\", \"Извещатель охранный точечный магнитоконтактный ИО 102-2\")\n",
      "INSERT INTO test_table VALUES(\"МК 3\", \"3315а\", \"ml-server-orion\", \"2-126-43-2\", \"ОС\", \"Извещатель охранный точечный магнитоконтактный ИО 102-2\")\n",
      "INSERT INTO test_table VALUES(\"МК 3\", \"3А05\", \"ml-server-orion\", \"2-126-43-2\", \"ОС\", \"Извещатель охранный точечный магнитоконтактный ИО 102-2\")\n",
      "INSERT INTO test_table VALUES(\"МК 3\", \"3201\", \"ml-server-orion\", \"2-126-43-2\", \"ОС\", \"Извещатель охранный точечный магнитоконтактный ИО 102-26\")\n",
      "INSERT INTO test_table VALUES(\"МК 3\", \"3202\", \"ml-server-orion\", \"2-126-43-2\", \"ОС\", \"Извещатель охранный точечный магнитоконтактный ИО 102-26\")\n",
      "INSERT INTO test_table VALUES(\"МК 3\", \"3204\", \"ml-server-orion\", \"2-126-43-2\", \"ОС\", \"Извещатель охранный точечный магнитоконтактный ИО 102-26\")\n",
      "INSERT INTO test_table VALUES(\"МК 3\", \"3300\", \"ml-server-orion\", \"2-126-43-2\", \"ОС\", \"Извещатель охранный точечный магнитоконтактный ИО 102-26\")\n",
      "INSERT INTO test_table VALUES(\"МК 3\", \"3306\", \"ml-server-orion\", \"2-126-43-2\", \"ОС\", \"Извещатель охранный точечный магнитоконтактный ИО 102-26\")\n",
      "INSERT INTO test_table VALUES(\"МК 3\", \"3316\", \"ml-server-orion\", \"2-126-43-2\", \"ОС\", \"Извещатель охранный точечный магнитоконтактный ИО 102-26\")\n",
      "INSERT INTO test_table VALUES(\"МК 3\", \"3А01\", \"ml-server-orion\", \"2-126-43-2\", \"ОС\", \"Извещатель охранный точечный магнитоконтактный ИО 102-26\")\n",
      "INSERT INTO test_table VALUES(\"МК 3\", \"3ц11\", \"ml-server-orion\", \"2-126-43-2\", \"ОС\", \"Извещатель охранный точечный магнитоконтактный ИО 102-26\")\n",
      "INSERT INTO test_table VALUES(\"МК 3\", \"3201\", \"ml-server-orion\", \"2-126-43-2\", \"ОС\", \"Извещатель охранный точечный магнитоконтактный ИО 102-5\")\n",
      "INSERT INTO test_table VALUES(\"МК 3\", \"3202\", \"ml-server-orion\", \"2-126-43-2\", \"ОС\", \"Извещатель охранный точечный магнитоконтактный ИО 102-5\")\n",
      "INSERT INTO test_table VALUES(\"МК 3\", \"3203\", \"ml-server-orion\", \"2-126-43-2\", \"ОС\", \"Извещатель охранный точечный магнитоконтактный ИО 102-5\")\n",
      "INSERT INTO test_table VALUES(\"МК 3\", \"3204\", \"ml-server-orion\", \"2-126-43-2\", \"ОС\", \"Извещатель охранный точечный магнитоконтактный ИО 102-5\")\n",
      "INSERT INTO test_table VALUES(\"МК 3\", \"3205\", \"ml-server-orion\", \"2-126-43-2\", \"ОС\", \"Извещатель охранный точечный магнитоконтактный ИО 102-5\")\n",
      "INSERT INTO test_table VALUES(\"МК 3\", \"3207\", \"ml-server-orion\", \"2-126-43-2\", \"ОС\", \"Извещатель охранный точечный магнитоконтактный ИО 102-5\")\n",
      "INSERT INTO test_table VALUES(\"МК 3\", \"3ц02\", \"ml-server-orion\", \"2-126-43-2\", \"ОС\", \"Извещатель охранный точечный магнитоконтактный ИО 102-6\")\n",
      "INSERT INTO test_table VALUES(\"МК 3\", \"3ц03\", \"ml-server-orion\", \"2-126-43-2\", \"ОС\", \"Извещатель охранный точечный магнитоконтактный ИО 102-6\")\n",
      "INSERT INTO test_table VALUES(\"МК 3\", \"3ц05\", \"ml-server-orion\", \"2-126-43-2\", \"ОС\", \"Извещатель охранный точечный магнитоконтактный ИО 102-6\")\n",
      "INSERT INTO test_table VALUES(\"МК 3\", \"3ц07\", \"ml-server-orion\", \"2-126-43-2\", \"ОС\", \"Извещатель охранный точечный магнитоконтактный ИО 102-6\")\n",
      "INSERT INTO test_table VALUES(\"МК 3\", \"3104\", \"не имеет\", \"не имеет\", \"СКУД\", \"C2000-Proxy H\")\n",
      "INSERT INTO test_table VALUES(\"МК 3\", \"3201\", \"не имеет\", \"не имеет\", \"СКУД\", \"Вызывная панель на четырёх абонентов с ИК-подсветкой DS-KV8402-IM\")\n",
      "INSERT INTO test_table VALUES(\"МК 3\", \"3104\", \"не имеет\", \"не имеет\", \"СКУД\", \"Доводчик двери\")\n",
      "INSERT INTO test_table VALUES(\"МК 3\", \"3316\", \"не имеет\", \"не имеет\", \"СКУД\", \"Доводчик двери\")\n",
      "INSERT INTO test_table VALUES(\"МК 3\", \"3201\", \"не имеет\", \"не имеет\", \"СКУД\", \"Доводчик двери\")\n",
      "INSERT INTO test_table VALUES(\"МК 3\", \"3207\", \"не имеет\", \"не имеет\", \"СКУД\", \"ИОПР 513/101-3 'Аварийный выход' извещатель охраннопожарный\")\n",
      "INSERT INTO test_table VALUES(\"МК 3\", \"3102\", \"не имеет\", \"не имеет\", \"СКУД\", \"Источник питания резервированный РИП-12 исп. 01\")\n",
      "INSERT INTO test_table VALUES(\"МК 3\", \"3201\", \"не имеет\", \"не имеет\", \"СКУД\", \"Источник питания резервированный РИП-12 исп. 01\")\n",
      "INSERT INTO test_table VALUES(\"МК 3\", \"3102\", \"ml-server-orion\", \"1-125-23\", \"СКУД\", \"Контроллер СКУД C2000-2\")\n",
      "INSERT INTO test_table VALUES(\"МК 3\", \"3201\", \"ml-server-orion\", \"1-125-24\", \"СКУД\", \"Контроллер СКУД C2000-2\")\n",
      "INSERT INTO test_table VALUES(\"МК 3\", \"3А01\", \"ml-server-orion\", \"1-125-25\", \"СКУД\", \"Контроллер СКУД C2000-2\")\n",
      "INSERT INTO test_table VALUES(\"МК 3\", \"3201\", \"ml-server-orion\", \"1-125-24-1\", \"СКУД\", \"Считыватель Parsec PR-EH03\")\n",
      "INSERT INTO test_table VALUES(\"МК 3\", \"3201\", \"ml-server-orion\", \"1-125-24-2\", \"СКУД\", \"Считыватель Parsec PR-EH03\")\n",
      "INSERT INTO test_table VALUES(\"МК 3\", \"3104\", \"не имеет\", \"не имеет\", \"СКУД\", \"Электромагнитный замок\")\n",
      "INSERT INTO test_table VALUES(\"МК 3\", \"3201\", \"не имеет\", \"не имеет\", \"СКУД\", \"Электромагнитный замок\")\n",
      "INSERT INTO test_table VALUES(\"МК 3\", \"3105 пцо\", \"ml-urm-pco\", \"192.168.43.87\", \"СОТН\", \"АРМ СОТН GIGABYTE H310M S2V rev1.0 (RTL)\n",
      "CPU Intel Core i3-8100\n",
      "SSD 240 Gb SATA 6Gb/s Kingston A400 \n",
      "DDR4 8GB\n",
      "Windows10 Pro 64-bit\")\n",
      "INSERT INTO test_table VALUES(\"МК 3\", \"3202\", \"не имеет\", \"не имеет\", \"СОТН\", \"Блок питания MEAN WELL NDR-480-48 48В 10А 480Вт\")\n",
      "INSERT INTO test_table VALUES(\"МК 3\", \"3201\", \"Videomax_5010\", \"192.168.43.1\", \"СОТН\", \"Видеокамера Hikvision DS-2CD2423G0-IW\")\n",
      "INSERT INTO test_table VALUES(\"МК 3\", \"3202\", \"Videomax_5010\", \"192.168.43.2\", \"СОТН\", \"Видеокамера Hikvision DS-2CD2423G0-IW\")\n",
      "INSERT INTO test_table VALUES(\"МК 3\", \"3203\", \"Videomax_5010\", \"192.168.43.3\", \"СОТН\", \"Видеокамера Hikvision DS-2CD2423G0-IW\")\n",
      "INSERT INTO test_table VALUES(\"МК 3\", \"3204\", \"Videomax_5010\", \"192.168.43.4\", \"СОТН\", \"Видеокамера Hikvision DS-2CD2423G0-IW\")\n",
      "INSERT INTO test_table VALUES(\"МК 3\", \"3205\", \"Videomax_5010\", \"192.168.43.5\", \"СОТН\", \"Видеокамера Hikvision DS-2CD2423G0-IW\")\n",
      "INSERT INTO test_table VALUES(\"МК 3\", \"3207\", \"Videomax_5010\", \"192.168.43.6\", \"СОТН\", \"Видеокамера Hikvision DS-2CD2423G0-IW\")\n",
      "INSERT INTO test_table VALUES(\"МК 3\", \"3210\", \"Videomax_5010\", \"192.168.43.7\", \"СОТН\", \"Видеокамера Hikvision DS-2CD2423G0-IW\")\n",
      "INSERT INTO test_table VALUES(\"МК 3\", \"3201\", \"Videomax_5010\", \"192.168.43.8\", \"СОТН\", \"Видеокамера Hikvision DS-2CD2442G0-IW\")\n",
      "INSERT INTO test_table VALUES(\"МК 3\", \"3317\", \"Videomax_5010\", \"192.168.43.9\", \"СОТН\", \"Видеокамера Hikvision DS-2CD2563G0-IS\")\n",
      "INSERT INTO test_table VALUES(\"МК 3\", \"3202\", \"Videomax_5010\", \"192.168.43.10\", \"СОТН\", \"Видеокамера Hikvision DS-2CD2935FWD-I\")\n",
      "INSERT INTO test_table VALUES(\"МК 3\", \"3103\", \"ml-vserver10\", \"271\", \"СОТН\", \"Видеокамера INFINITY CX-DN570RED\")\n",
      "INSERT INTO test_table VALUES(\"МК 3\", \"3107\", \"ml-vserver10\", \"272\", \"СОТН\", \"Видеокамера INFINITY CX-DN570RED\")\n",
      "INSERT INTO test_table VALUES(\"МК 3\", \"3ц11\", \"ml-vserver10\", \"273\", \"СОТН\", \"Видеокамера INFINITY CX-DN570RED\")\n",
      "INSERT INTO test_table VALUES(\"МК 3\", \"площадка перед пцо\", \"ml-vserver10\", \"274\", \"СОТН\", \"Видеокамера INFINITY CX-DN570RED\")\n",
      "INSERT INTO test_table VALUES(\"МК 3\", \"3105 пцо\", \"ml-vserver10\", \"275\", \"СОТН\", \"Видеокамера kt&c KPC-303BH\")\n",
      "INSERT INTO test_table VALUES(\"МК 3\", \"3201\", \"ml-vserver10\", \"276\", \"СОТН\", \"Видеокамера kt&c KPC-303BH\")\n",
      "INSERT INTO test_table VALUES(\"МК 3\", \"3300\", \"ml-vserver10\", \"277\", \"СОТН\", \"Видеокамера LTV-CDH-421W\")\n",
      "INSERT INTO test_table VALUES(\"МК 3\", \"3300\", \"ml-vserver10\", \"278\", \"СОТН\", \"Видеокамера LTV-CDH-620LH-V2811\")\n",
      "INSERT INTO test_table VALUES(\"МК 3\", \"3316\", \"ml-vserver10\", \"279\", \"СОТН\", \"Видеокамера LTV-CDH-620LH-V2811\")\n",
      "INSERT INTO test_table VALUES(\"МК 3\", \"3300 на лестнице\", \"ml-vserver10\", \"280\", \"СОТН\", \"Видеокамера LTV-CDH-B6001L\")\n",
      "INSERT INTO test_table VALUES(\"МК 3\", \"3102\", \"ml-vserver10\", \"281\", \"СОТН\", \"Видеокамера LTV-ICDM1-E4230\")\n",
      "INSERT INTO test_table VALUES(\"МК 3\", \"3102\", \"ml-vserver10\", \"282\", \"СОТН\", \"Видеокамера MicroDigital MDC-L4090CSL\")\n",
      "INSERT INTO test_table VALUES(\"МК 3\", \"3202\", \"ml-vserver10\", \"283\", \"СОТН\", \"Видеокамера MINTRON 22S85HC\")\n"
     ]
    }
   ],
   "source": [
    "for query in data:\n",
    "    print(query)\n",
    "    # DB_object.execute(query, is_change=True)"
   ]
  },
  {
   "cell_type": "code",
   "execution_count": null,
   "metadata": {},
   "outputs": [],
   "source": [
    "picture = bytes(DB_object.execute('''\n",
    "SELECT * FROM test_table WHERE \"Фото\" not LIKE \"b%\";\n",
    "''', is_change=False)[0][-1])"
   ]
  },
  {
   "cell_type": "code",
   "execution_count": null,
   "metadata": {},
   "outputs": [
    {
     "data": {
      "text/plain": [
       "['ИО 102-6.png']"
      ]
     },
     "execution_count": 30,
     "metadata": {},
     "output_type": "execute_result"
    }
   ],
   "source": [
    "os.listdir(path = 'cache_pics')"
   ]
  },
  {
   "cell_type": "code",
   "execution_count": null,
   "metadata": {},
   "outputs": [],
   "source": [
    "with open(f'cache_pics/TEST.{\"png\" if \"PNG\" in str(picture) else \"jpg\"}', 'wb') as pic_file:\n",
    "    pic_file.write(picture)"
   ]
  },
  {
   "cell_type": "code",
   "execution_count": null,
   "metadata": {},
   "outputs": [
    {
     "name": "stdout",
     "output_type": "stream",
     "text": [
      "0\n"
     ]
    }
   ],
   "source": []
  },
  {
   "cell_type": "code",
   "execution_count": null,
   "metadata": {},
   "outputs": [],
   "source": [
    "def picture_save(data, filename):\n",
    "    # Преобразование двоичных данных в нужный формат\n",
    "    with open(filename, 'wb') as file:\n",
    "        file.write(data)"
   ]
  },
  {
   "attachments": {},
   "cell_type": "markdown",
   "metadata": {},
   "source": [
    "ДОДЕЛАТЬ ПОЛУЧЕНИЕ КАРТИНОК ИЗ БД. СОХРАНЯТЬ ФАЙЛЫ В ДИРЕКТОРИИ cache_pics, УДАЛЯТЬ ПОЗЖЕ (!!!)"
   ]
  },
  {
   "attachments": {},
   "cell_type": "markdown",
   "metadata": {},
   "source": [
    "Запись картинки в БД"
   ]
  },
  {
   "cell_type": "code",
   "execution_count": null,
   "metadata": {},
   "outputs": [],
   "source": [
    "with open(\"Pics/test.png\", 'rb') as bin_png:\n",
    "    DB_object.execute(query = \"INSERT INTO test_table (Фото) VALUES (?)\", is_change = True, values = (bin_png.read(),))"
   ]
  },
  {
   "attachments": {},
   "cell_type": "markdown",
   "metadata": {},
   "source": [
    "Получение картинки из БД"
   ]
  },
  {
   "cell_type": "code",
   "execution_count": null,
   "metadata": {},
   "outputs": [],
   "source": [
    "with open(\"Pics/test.png\", 'rb') as bin_png:\n",
    "    DB_object.execute(query = \"INSERT INTO test_table (Фото) VALUES (?)\", is_change = True, values = (bin_png.read(),))"
   ]
  },
  {
   "cell_type": "code",
   "execution_count": 13,
   "metadata": {},
   "outputs": [],
   "source": [
    "df = pd.read_excel(io = table_path, sheet_name = 'Лист2')"
   ]
  },
  {
   "cell_type": "code",
   "execution_count": 18,
   "metadata": {},
   "outputs": [
    {
     "name": "stdout",
     "output_type": "stream",
     "text": [
      "['Извещатель охранный точечный магнитоконтактный ИО 102-2'\n",
      " 'Извещатель охранный точечный магнитоконтактный ИО 102-26'\n",
      " 'Извещатель охранный точечный магнитоконтактный ИО 102-5'\n",
      " 'Извещатель охранный точечный магнитоконтактный ИО 102-6' 'C2000-Proxy H'\n",
      " 'Вызывная панель на четырёх абонентов с ИК-подсветкой DS-KV8402-IM'\n",
      " 'Доводчик двери'\n",
      " 'ИОПР 513/101-3 \"Аварийный выход\" извещатель охраннопожарный'\n",
      " 'Источник питания резервированный РИП-12 исп. 01'\n",
      " 'Контроллер СКУД C2000-2' 'Считыватель Parsec PR-EH03'\n",
      " 'Электромагнитный замок'\n",
      " 'АРМ СОТН GIGABYTE H310M S2V rev1.0 (RTL)\\nCPU Intel Core i3-8100\\nSSD 240 Gb SATA 6Gb/s Kingston A400 \\nDDR4 8GB\\nWindows10 Pro 64-bit'\n",
      " 'Блок питания MEAN WELL NDR-480-48 48В 10А 480Вт'\n",
      " 'Видеокамера Hikvision DS-2CD2423G0-IW'\n",
      " 'Видеокамера Hikvision DS-2CD2442G0-IW'\n",
      " 'Видеокамера Hikvision DS-2CD2563G0-IS'\n",
      " 'Видеокамера Hikvision DS-2CD2935FWD-I'\n",
      " 'Видеокамера INFINITY CX-DN570RED' 'Видеокамера kt&c KPC-303BH'\n",
      " 'Видеокамера LTV-CDH-421W' 'Видеокамера LTV-CDH-620LH-V2811'\n",
      " 'Видеокамера LTV-CDH-B6001L' 'Видеокамера LTV-ICDM1-E4230'\n",
      " 'Видеокамера MicroDigital MDC-L4090CSL' 'Видеокамера MINTRON 22S85HC']\n"
     ]
    }
   ],
   "source": [
    "print(df[\"Оборудование\"].unique())"
   ]
  },
  {
   "cell_type": "code",
   "execution_count": null,
   "metadata": {},
   "outputs": [
    {
     "name": "stdout",
     "output_type": "stream",
     "text": [
      "Извещатель охранный точечный магнитоконтактный ИО 102-2\n",
      "Извещатель охранный точечный магнитоконтактный ИО 102-26\n",
      "Извещатель охранный точечный магнитоконтактный ИО 102-5\n",
      "Извещатель охранный точечный магнитоконтактный ИО 102-6\n",
      "C2000-Proxy H\n",
      "Вызывная панель на четырёх абонентов с ИК-подсветкой DS-KV8402-IM\n",
      "Доводчик двери\n",
      "ИОПР 513/101-3 \"Аварийный выход\" извещатель охраннопожарный\n",
      "Источник питания резервированный РИП-12 исп. 01\n",
      "Контроллер СКУД C2000-2\n",
      "Считыватель Parsec PR-EH03\n",
      "Электромагнитный замок\n",
      "АРМ СОТН GIGABYTE H310M S2V rev1.0 (RTL)\n",
      "CPU Intel Core i3-8100\n",
      "SSD 240 Gb SATA 6Gb/s Kingston A400 \n",
      "DDR4 8GB\n",
      "Windows10 Pro 64-bit\n",
      "Блок питания MEAN WELL NDR-480-48 48В 10А 480Вт\n",
      "Видеокамера Hikvision DS-2CD2423G0-IW\n",
      "Видеокамера Hikvision DS-2CD2442G0-IW\n",
      "Видеокамера Hikvision DS-2CD2563G0-IS\n",
      "Видеокамера Hikvision DS-2CD2935FWD-I\n",
      "Видеокамера INFINITY CX-DN570RED\n",
      "Видеокамера kt&c KPC-303BH\n",
      "Видеокамера LTV-CDH-421W\n",
      "Видеокамера LTV-CDH-620LH-V2811\n",
      "Видеокамера LTV-CDH-B6001L\n",
      "Видеокамера LTV-ICDM1-E4230\n",
      "Видеокамера MicroDigital MDC-L4090CSL\n",
      "Видеокамера MINTRON 22S85HC\n"
     ]
    }
   ],
   "source": [
    "for device in df.Оборудование.unique():\n",
    "    print(device)"
   ]
  },
  {
   "cell_type": "code",
   "execution_count": null,
   "metadata": {},
   "outputs": [],
   "source": []
  },
  {
   "cell_type": "code",
   "execution_count": null,
   "metadata": {},
   "outputs": [],
   "source": []
  }
 ],
 "metadata": {
  "kernelspec": {
   "display_name": "Python 3",
   "language": "python",
   "name": "python3"
  },
  "language_info": {
   "codemirror_mode": {
    "name": "ipython",
    "version": 3
   },
   "file_extension": ".py",
   "mimetype": "text/x-python",
   "name": "python",
   "nbconvert_exporter": "python",
   "pygments_lexer": "ipython3",
   "version": "3.10.8 (tags/v3.10.8:aaaf517, Oct 11 2022, 16:50:30) [MSC v.1933 64 bit (AMD64)]"
  },
  "orig_nbformat": 4,
  "vscode": {
   "interpreter": {
    "hash": "1ffdadc0d1415b19035eba2fd8fd9ccd276098cbb8bade42baf9c70e83fa5937"
   }
  }
 },
 "nbformat": 4,
 "nbformat_minor": 2
}
