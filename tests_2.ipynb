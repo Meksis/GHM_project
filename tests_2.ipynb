{
 "cells": [
  {
   "cell_type": "code",
   "execution_count": 28,
   "metadata": {},
   "outputs": [],
   "source": [
    "import openpyxl as op\n",
    "import streamlit as st\n",
    "import sqlite3 as sq\n",
    "import pandas as pd\n",
    "import os\n",
    "\n",
    "from DB_work import DB_ORM\n",
    "\n",
    "from streamlit import *\n",
    "from openpyxl_image_loader import SheetImageLoader\n",
    "\n",
    "table_path = 'K:\\Downloads\\Загрузки Яндекс\\Прототип.xlsx'\n",
    "DB_object = DB_ORM()\n",
    "names = {\n",
    "    'Здание' : 'ЗДАНИЯ', \n",
    "    'Помещение' : \"ПОМЕЩЕНИЯ\", \n",
    "    \"Машина\" : \"МАШИНЫ\", \n",
    "    \"Адрес\" : \"АДРЕСА\", \n",
    "    \"Системы\" : \"СИСТЕМЫ\", \n",
    "    \"Оборудование\" : \"ОБОРУДОВАНИЕ\",\n",
    "    \"Фото\" : \"ФОТО\"\n",
    "    }"
   ]
  },
  {
   "cell_type": "code",
   "execution_count": 2,
   "metadata": {},
   "outputs": [
    {
     "data": {
      "text/plain": [
       "True"
      ]
     },
     "execution_count": 2,
     "metadata": {},
     "output_type": "execute_result"
    }
   ],
   "source": [
    "# Создание таблицы зданий\n",
    "DB_object.execute(f\"\"\"\n",
    "CREATE TABLE IF NOT EXISTS ЗДАНИЯ (\n",
    "    id INTEGER PRIMARY KEY, \n",
    "    'Наименование' varchar NOT NULL,\n",
    "    UNIQUE('Наименование')\n",
    ")\n",
    "\"\"\", \n",
    "is_change=True)"
   ]
  },
  {
   "cell_type": "code",
   "execution_count": 3,
   "metadata": {},
   "outputs": [
    {
     "data": {
      "text/plain": [
       "True"
      ]
     },
     "execution_count": 3,
     "metadata": {},
     "output_type": "execute_result"
    }
   ],
   "source": [
    "# Создание таблицы помещений\n",
    "DB_object.execute(f\"\"\"\n",
    "CREATE TABLE IF NOT EXISTS ПОМЕЩЕНИЯ (\n",
    "    id INTEGER PRIMARY KEY, \n",
    "    'Номер' varchar  NOT NULL,\n",
    "    UNIQUE('Номер')\n",
    ")\n",
    "\"\"\", \n",
    "is_change=True)"
   ]
  },
  {
   "cell_type": "code",
   "execution_count": 4,
   "metadata": {},
   "outputs": [
    {
     "data": {
      "text/plain": [
       "True"
      ]
     },
     "execution_count": 4,
     "metadata": {},
     "output_type": "execute_result"
    }
   ],
   "source": [
    "# Создание таблицы \"машин\"\n",
    "DB_object.execute(f\"\"\"\n",
    "CREATE TABLE IF NOT EXISTS МАШИНЫ (\n",
    "    id INTEGER PRIMARY KEY, \n",
    "    'Наименование' varchar  NOT NULL,\n",
    "    UNIQUE('Наименование')\n",
    ")\n",
    "\"\"\", \n",
    "is_change=True)"
   ]
  },
  {
   "cell_type": "code",
   "execution_count": 5,
   "metadata": {},
   "outputs": [
    {
     "data": {
      "text/plain": [
       "True"
      ]
     },
     "execution_count": 5,
     "metadata": {},
     "output_type": "execute_result"
    }
   ],
   "source": [
    "# Создание таблицы устройств\n",
    "DB_object.execute(f\"\"\"\n",
    "CREATE TABLE IF NOT EXISTS СИСТЕМЫ (\n",
    "    id INTEGER PRIMARY KEY, \n",
    "    'Наименование' varchar  NOT NULL,\n",
    "    UNIQUE('Наименование')\n",
    ")\n",
    "\"\"\", \n",
    "is_change=True)"
   ]
  },
  {
   "cell_type": "code",
   "execution_count": 6,
   "metadata": {},
   "outputs": [
    {
     "data": {
      "text/plain": [
       "True"
      ]
     },
     "execution_count": 6,
     "metadata": {},
     "output_type": "execute_result"
    }
   ],
   "source": [
    "# Создание таблицы оборудования\n",
    "DB_object.execute(f\"\"\"\n",
    "CREATE TABLE IF NOT EXISTS ОБОРУДОВАНИЕ (\n",
    "    id INTEGER PRIMARY KEY, \n",
    "    'Наименование' varchar  NOT NULL,\n",
    "    UNIQUE('Наименование')\n",
    ")\n",
    "\"\"\", \n",
    "is_change=True)\n"
   ]
  },
  {
   "cell_type": "code",
   "execution_count": 7,
   "metadata": {},
   "outputs": [
    {
     "data": {
      "text/plain": [
       "True"
      ]
     },
     "execution_count": 7,
     "metadata": {},
     "output_type": "execute_result"
    }
   ],
   "source": [
    "# Создание таблицы адресов\n",
    "DB_object.execute(f\"\"\"\n",
    "CREATE TABLE IF NOT EXISTS АДРЕСА (\n",
    "    id INTEGER PRIMARY KEY, \n",
    "    'Адрес' varchar(256)  NOT NULL\n",
    ")\n",
    "\"\"\", \n",
    "is_change=True)"
   ]
  },
  {
   "cell_type": "code",
   "execution_count": 8,
   "metadata": {},
   "outputs": [
    {
     "data": {
      "text/plain": [
       "True"
      ]
     },
     "execution_count": 8,
     "metadata": {},
     "output_type": "execute_result"
    }
   ],
   "source": [
    "# Создание таблицы фоток. Лучше использовать БД, поскольку отпадает проблема одновременного доступа к одному и тому же файлу.\n",
    "DB_object.execute(f\"\"\"\n",
    "CREATE TABLE IF NOT EXISTS ФОТО (\n",
    "    id INTEGER PRIMARY KEY, \n",
    "    'Изображение' BLOB  NOT NULL\n",
    ")\n",
    "\"\"\", \n",
    "is_change=True)"
   ]
  },
  {
   "cell_type": "code",
   "execution_count": null,
   "metadata": {},
   "outputs": [],
   "source": []
  },
  {
   "cell_type": "code",
   "execution_count": 9,
   "metadata": {},
   "outputs": [
    {
     "ename": "SyntaxError",
     "evalue": "invalid syntax (4070852608.py, line 1)",
     "output_type": "error",
     "traceback": [
      "\u001b[1;36m  Cell \u001b[1;32mIn[9], line 1\u001b[1;36m\u001b[0m\n\u001b[1;33m    CREATE TABLE IF NOT EXISTS AMALGAM (\u001b[0m\n\u001b[1;37m           ^\u001b[0m\n\u001b[1;31mSyntaxError\u001b[0m\u001b[1;31m:\u001b[0m invalid syntax\n"
     ]
    }
   ],
   "source": [
    "CREATE TABLE IF NOT EXISTS AMALGAM (\n",
    "\n",
    "\n",
    "    Здание varchar(64),\n",
    "    Помещение varchar(64),\n",
    "    Машина varchar(64),\n",
    "    Адрес varchar(64),\n",
    "    Системы varchar(64),\n",
    "    Оборудование varchar(256),\n",
    "    Фото BLOB,\n",
    "\n",
    "    FOREIGN KEY(Здание) REFERENCES ЗДАНИЯ(id) ON UPDATE CASCADE,\n",
    "    FOREIGN KEY(Помещение) REFERENCES ПОМЕЩЕНИЯ(id) ON UPDATE CASCADE,\n",
    "    FOREIGN KEY(Машина) REFERENCES МАШИНЫ(id) ON UPDATE CASCADE,\n",
    "    FOREIGN KEY(Системы) REFERENCES СИСТЕМЫ(id) ON UPDATE CASCADE,\n",
    "    FOREIGN KEY(Оборудование) REFERENCES ОБОРУДОВАНИЕ(id) ON UPDATE CASCADE,\n",
    "    FOREIGN KEY(Фото) REFERENCES ФОТО(id) ON UPDATE CASCADE\n",
    ")"
   ]
  },
  {
   "cell_type": "code",
   "execution_count": null,
   "metadata": {},
   "outputs": [
    {
     "data": {
      "text/plain": [
       "True"
      ]
     },
     "execution_count": 10,
     "metadata": {},
     "output_type": "execute_result"
    }
   ],
   "source": [
    "DB_object.execute(\"\"\"\n",
    "CREATE TABLE IF NOT EXISTS AMALGAM (\n",
    "    Здание INTEGER NOT NULL,\n",
    "    Помещение INTEGER NOT NULL,\n",
    "    Машина INTEGER NOT NULL,\n",
    "    Адрес INTEGER NOT NULL,\n",
    "    Системы INTEGER NOT NULL,\n",
    "    Оборудование INTEGER NOT NULL,\n",
    "    Фото INTEGER NOT NULL\n",
    ")\n",
    "\n",
    "\"\"\",\n",
    "is_change=True)\n",
    "\n"
   ]
  },
  {
   "cell_type": "code",
   "execution_count": null,
   "metadata": {},
   "outputs": [
    {
     "data": {
      "text/plain": [
       "True"
      ]
     },
     "execution_count": 93,
     "metadata": {},
     "output_type": "execute_result"
    }
   ],
   "source": [
    "# DB_object.execute('INSERT INTO AMALGAM VALUES (1, 1, 1, 1, 1, 1, 1) ', is_change = True)"
   ]
  },
  {
   "cell_type": "code",
   "execution_count": 11,
   "metadata": {},
   "outputs": [
    {
     "data": {
      "text/plain": [
       "['Наименование']"
      ]
     },
     "execution_count": 11,
     "metadata": {},
     "output_type": "execute_result"
    }
   ],
   "source": []
  },
  {
   "cell_type": "code",
   "execution_count": null,
   "metadata": {},
   "outputs": [
    {
     "name": "stdout",
     "output_type": "stream",
     "text": [
      "JOIN ЗДАНИЯ ON AMALGAM.Здание = ЗДАНИЯ.id\n",
      "JOIN ПОМЕЩЕНИЯ ON AMALGAM.Помещение = ПОМЕЩЕНИЯ.id\n",
      "JOIN МАШИНЫ ON AMALGAM.Машина = МАШИНЫ.id\n",
      "JOIN АДРЕСА ON AMALGAM.Адрес = АДРЕСА.id\n",
      "JOIN СИСТЕМЫ ON AMALGAM.Системы = СИСТЕМЫ.id\n",
      "JOIN ОБОРУДОВАНИЕ ON AMALGAM.Оборудование = ОБОРУДОВАНИЕ.id\n"
     ]
    }
   ],
   "source": [
    "print('\\n'.join([f\"\"\"JOIN {names[enter]} ON AMALGAM.{enter} = {names[enter]}.id\"\"\" for enter in names]))"
   ]
  },
  {
   "cell_type": "code",
   "execution_count": 25,
   "metadata": {},
   "outputs": [
    {
     "data": {
      "text/plain": [
       "True"
      ]
     },
     "execution_count": 25,
     "metadata": {},
     "output_type": "execute_result"
    }
   ],
   "source": [
    "DB_object.execute('DELETE FROM ЗДАНИЯ WHERE Наименование = \"0\"', is_change = 1)"
   ]
  },
  {
   "cell_type": "code",
   "execution_count": 29,
   "metadata": {},
   "outputs": [
    {
     "data": {
      "text/plain": [
       "{'Здание': 'ЗДАНИЯ',\n",
       " 'Помещение': 'ПОМЕЩЕНИЯ',\n",
       " 'Машина': 'МАШИНЫ',\n",
       " 'Адрес': 'АДРЕСА',\n",
       " 'Системы': 'СИСТЕМЫ',\n",
       " 'Оборудование': 'ОБОРУДОВАНИЕ',\n",
       " 'Фото': 'ФОТО'}"
      ]
     },
     "execution_count": 29,
     "metadata": {},
     "output_type": "execute_result"
    }
   ],
   "source": [
    "names"
   ]
  },
  {
   "cell_type": "code",
   "execution_count": 30,
   "metadata": {},
   "outputs": [
    {
     "name": "stdout",
     "output_type": "stream",
     "text": [
      "INSERT INTO ЗДАНИЯ (Наименование) VALUES (7);\n",
      "INSERT INTO ПОМЕЩЕНИЯ (Номер) VALUES (8);\n",
      "INSERT INTO МАШИНЫ (Наименование) VALUES (9);\n",
      "INSERT INTO АДРЕСА (Адрес) VALUES (10);\n",
      "INSERT INTO СИСТЕМЫ (Наименование) VALUES (11);\n",
      "INSERT INTO ОБОРУДОВАНИЕ (Наименование) VALUES (12);\n",
      "INSERT INTO ФОТО (Изображение) VALUES (13);\n"
     ]
    }
   ],
   "source": [
    "for counter, key in enumerate(names, start = 7):\n",
    "    query = f\"\"\"INSERT INTO {names[key]} ({DB_object.columns_names(names[key])[1]}) VALUES ({counter});\"\"\"\n",
    "    print(query)\n",
    "\n",
    "    DB_object.execute(query, is_change = True)\n",
    "    "
   ]
  },
  {
   "cell_type": "code",
   "execution_count": 20,
   "metadata": {},
   "outputs": [
    {
     "name": "stdout",
     "output_type": "stream",
     "text": [
      "INSERT INTO ЗДАНИЯ (Наименование) VALUES (0);\n",
      "INSERT INTO ПОМЕЩЕНИЯ (Номер) VALUES (1);\n",
      "INSERT INTO МАШИНЫ (Наименование) VALUES (2);\n",
      "INSERT INTO АДРЕСА (Адрес) VALUES (3);\n",
      "INSERT INTO СИСТЕМЫ (Наименование) VALUES (4);\n",
      "INSERT INTO ОБОРУДОВАНИЕ (Наименование) VALUES (5)\n"
     ]
    }
   ],
   "source": [
    "print(query)"
   ]
  },
  {
   "cell_type": "code",
   "execution_count": 21,
   "metadata": {},
   "outputs": [
    {
     "ename": "Warning",
     "evalue": "You can only execute one statement at a time.",
     "output_type": "error",
     "traceback": [
      "\u001b[1;31m---------------------------------------------------------------------------\u001b[0m",
      "\u001b[1;31mWarning\u001b[0m                                   Traceback (most recent call last)",
      "Cell \u001b[1;32mIn[21], line 1\u001b[0m\n\u001b[1;32m----> 1\u001b[0m DB_object\u001b[39m.\u001b[39;49mexecute(query, is_change \u001b[39m=\u001b[39;49m \u001b[39mTrue\u001b[39;49;00m)\n",
      "File \u001b[1;32mj:\\Самописное\\Work\\Gadjets_structurer\\DB_work.py:44\u001b[0m, in \u001b[0;36mDB_ORM.execute\u001b[1;34m(self, query, is_change, **values)\u001b[0m\n\u001b[0;32m     42\u001b[0m         \u001b[39mself\u001b[39m\u001b[39m.\u001b[39mcursor\u001b[39m.\u001b[39mexecute(query, values[\u001b[39m'\u001b[39m\u001b[39mvalues\u001b[39m\u001b[39m'\u001b[39m])\n\u001b[0;32m     43\u001b[0m \u001b[39melse\u001b[39;00m:\n\u001b[1;32m---> 44\u001b[0m     \u001b[39mself\u001b[39;49m\u001b[39m.\u001b[39;49mcursor\u001b[39m.\u001b[39;49mexecute(query)\n\u001b[0;32m     46\u001b[0m \u001b[39mif\u001b[39;00m is_change:\n\u001b[0;32m     47\u001b[0m     \u001b[39mself\u001b[39m\u001b[39m.\u001b[39mconnection\u001b[39m.\u001b[39mcommit()\n",
      "\u001b[1;31mWarning\u001b[0m: You can only execute one statement at a time."
     ]
    }
   ],
   "source": []
  },
  {
   "cell_type": "code",
   "execution_count": 16,
   "metadata": {},
   "outputs": [
    {
     "ename": "IntegrityError",
     "evalue": "UNIQUE constraint failed: ЗДАНИЯ.Наименование",
     "output_type": "error",
     "traceback": [
      "\u001b[1;31m---------------------------------------------------------------------------\u001b[0m",
      "\u001b[1;31mIntegrityError\u001b[0m                            Traceback (most recent call last)",
      "Cell \u001b[1;32mIn[16], line 1\u001b[0m\n\u001b[1;32m----> 1\u001b[0m DB_object\u001b[39m.\u001b[39;49mexecute(\u001b[39m'\u001b[39;49m\u001b[39mINSERT INTO ЗДАНИЯ (Наименование) VALUES (0)\u001b[39;49m\u001b[39m'\u001b[39;49m, is_change \u001b[39m=\u001b[39;49m \u001b[39mTrue\u001b[39;49;00m)\n",
      "File \u001b[1;32mj:\\Самописное\\Work\\Gadjets_structurer\\DB_work.py:44\u001b[0m, in \u001b[0;36mDB_ORM.execute\u001b[1;34m(self, query, is_change, **values)\u001b[0m\n\u001b[0;32m     42\u001b[0m         \u001b[39mself\u001b[39m\u001b[39m.\u001b[39mcursor\u001b[39m.\u001b[39mexecute(query, values[\u001b[39m'\u001b[39m\u001b[39mvalues\u001b[39m\u001b[39m'\u001b[39m])\n\u001b[0;32m     43\u001b[0m \u001b[39melse\u001b[39;00m:\n\u001b[1;32m---> 44\u001b[0m     \u001b[39mself\u001b[39;49m\u001b[39m.\u001b[39;49mcursor\u001b[39m.\u001b[39;49mexecute(query)\n\u001b[0;32m     46\u001b[0m \u001b[39mif\u001b[39;00m is_change:\n\u001b[0;32m     47\u001b[0m     \u001b[39mself\u001b[39m\u001b[39m.\u001b[39mconnection\u001b[39m.\u001b[39mcommit()\n",
      "\u001b[1;31mIntegrityError\u001b[0m: UNIQUE constraint failed: ЗДАНИЯ.Наименование"
     ]
    }
   ],
   "source": [
    "DB_object.execute('INSERT INTO ЗДАНИЯ (Наименование) VALUES (0)', is_change = True)"
   ]
  },
  {
   "cell_type": "code",
   "execution_count": null,
   "metadata": {},
   "outputs": [],
   "source": [
    "#loading the Excel File and the sheet\n",
    "xl_file = op.load_workbook(filename = table_path,  data_only = True)\n",
    "working_sheet = xl_file[xl_file.sheetnames[1]]      # 0 - Пикча, 1 - таблица"
   ]
  },
  {
   "cell_type": "code",
   "execution_count": null,
   "metadata": {},
   "outputs": [
    {
     "name": "stdout",
     "output_type": "stream",
     "text": [
      "{}\n"
     ]
    }
   ],
   "source": [
    "# data = [ [working_sheet.cell(row=row_number, column=column_number).value if working_sheet.cell(row=row_number, column=column_number).value is not None else '' for column_number in range(1, working_sheet.max_column + 1)] for row_number in range(1, working_sheet.max_row + 1)  ]\n",
    "\n",
    "data = []\n",
    "columns = []\n",
    "\n",
    "\n",
    "\n",
    "\n",
    "for row_number in range(1, working_sheet.max_row + 1):\n",
    "    row = {}\n",
    "    for column_number in range(1, working_sheet.max_column + 1):\n",
    "        value = working_sheet.cell(row=row_number, column=column_number).value\n",
    "        if not value:\n",
    "            continue\n",
    "\n",
    "        if row_number == 1:\n",
    "            columns.append(value)\n",
    "        else:\n",
    "            row.update({columns[column_number - 1] : value})\n",
    "\n",
    "    if row_number != 1: \n",
    "        for key in row:\n",
    "            # data.append(f'''INSERT INTO {names[key]} VALUES({', '.join([ '\"' + str(row[key]).replace('\"', \"'\") \n",
    "            # + '\"' for key in row ] )})''')\n",
    "\n",
    "            data.append(f\"\"\"INSERT INTO {names[key]} VALUES('{row[key]}')\"\"\")\n",
    "            \n",
    "        row = []\n",
    "\n",
    "\n",
    "# value=working_sheet.cell(row=row_number, column=column_number).value\n"
   ]
  },
  {
   "cell_type": "code",
   "execution_count": null,
   "metadata": {},
   "outputs": [
    {
     "name": "stdout",
     "output_type": "stream",
     "text": [
      "[!] -  UNIQUE constraint failed: ЗДАНИЯ.Наименование\n",
      "[!] -  UNIQUE constraint failed: ПОМЕЩЕНИЯ.Номер\n",
      "[!] -  UNIQUE constraint failed: МАШИНЫ.Наименование\n",
      "[!] -  UNIQUE constraint failed: АДРЕСА.Адрес\n",
      "[!] -  UNIQUE constraint failed: СИСТЕМЫ.Наименование\n",
      "[!] -  UNIQUE constraint failed: ОБОРУДОВАНИЕ.Наименование\n",
      "[!] -  UNIQUE constraint failed: ЗДАНИЯ.Наименование\n",
      "[!] -  UNIQUE constraint failed: ПОМЕЩЕНИЯ.Номер\n",
      "[!] -  UNIQUE constraint failed: МАШИНЫ.Наименование\n",
      "[!] -  UNIQUE constraint failed: АДРЕСА.Адрес\n",
      "[!] -  UNIQUE constraint failed: СИСТЕМЫ.Наименование\n",
      "[!] -  UNIQUE constraint failed: ОБОРУДОВАНИЕ.Наименование\n",
      "[!] -  UNIQUE constraint failed: ЗДАНИЯ.Наименование\n",
      "[!] -  UNIQUE constraint failed: ПОМЕЩЕНИЯ.Номер\n",
      "[!] -  UNIQUE constraint failed: МАШИНЫ.Наименование\n",
      "[!] -  UNIQUE constraint failed: АДРЕСА.Адрес\n",
      "[!] -  UNIQUE constraint failed: СИСТЕМЫ.Наименование\n",
      "[!] -  UNIQUE constraint failed: ОБОРУДОВАНИЕ.Наименование\n",
      "[!] -  UNIQUE constraint failed: ЗДАНИЯ.Наименование\n",
      "[!] -  UNIQUE constraint failed: ПОМЕЩЕНИЯ.Номер\n",
      "[!] -  UNIQUE constraint failed: МАШИНЫ.Наименование\n",
      "[!] -  UNIQUE constraint failed: АДРЕСА.Адрес\n",
      "[!] -  UNIQUE constraint failed: СИСТЕМЫ.Наименование\n",
      "[!] -  UNIQUE constraint failed: ОБОРУДОВАНИЕ.Наименование\n",
      "[!] -  UNIQUE constraint failed: ЗДАНИЯ.Наименование\n",
      "[!] -  UNIQUE constraint failed: ПОМЕЩЕНИЯ.Номер\n",
      "[!] -  UNIQUE constraint failed: МАШИНЫ.Наименование\n",
      "[!] -  UNIQUE constraint failed: АДРЕСА.Адрес\n",
      "[!] -  UNIQUE constraint failed: СИСТЕМЫ.Наименование\n",
      "[!] -  UNIQUE constraint failed: ОБОРУДОВАНИЕ.Наименование\n",
      "[!] -  UNIQUE constraint failed: ЗДАНИЯ.Наименование\n",
      "[!] -  UNIQUE constraint failed: ПОМЕЩЕНИЯ.Номер\n",
      "[!] -  UNIQUE constraint failed: МАШИНЫ.Наименование\n",
      "[!] -  UNIQUE constraint failed: АДРЕСА.Адрес\n",
      "[!] -  UNIQUE constraint failed: СИСТЕМЫ.Наименование\n",
      "[!] -  UNIQUE constraint failed: ОБОРУДОВАНИЕ.Наименование\n",
      "[!] -  UNIQUE constraint failed: ЗДАНИЯ.Наименование\n",
      "[!] -  UNIQUE constraint failed: ПОМЕЩЕНИЯ.Номер\n",
      "[!] -  UNIQUE constraint failed: МАШИНЫ.Наименование\n",
      "[!] -  UNIQUE constraint failed: АДРЕСА.Адрес\n",
      "[!] -  UNIQUE constraint failed: СИСТЕМЫ.Наименование\n",
      "[!] -  UNIQUE constraint failed: ОБОРУДОВАНИЕ.Наименование\n",
      "[!] -  UNIQUE constraint failed: ЗДАНИЯ.Наименование\n",
      "[!] -  UNIQUE constraint failed: ПОМЕЩЕНИЯ.Номер\n",
      "[!] -  UNIQUE constraint failed: МАШИНЫ.Наименование\n",
      "[!] -  UNIQUE constraint failed: АДРЕСА.Адрес\n",
      "[!] -  UNIQUE constraint failed: СИСТЕМЫ.Наименование\n",
      "[!] -  UNIQUE constraint failed: ОБОРУДОВАНИЕ.Наименование\n",
      "[!] -  UNIQUE constraint failed: ЗДАНИЯ.Наименование\n",
      "[!] -  UNIQUE constraint failed: ПОМЕЩЕНИЯ.Номер\n",
      "[!] -  UNIQUE constraint failed: МАШИНЫ.Наименование\n",
      "[!] -  UNIQUE constraint failed: АДРЕСА.Адрес\n",
      "[!] -  UNIQUE constraint failed: СИСТЕМЫ.Наименование\n",
      "[!] -  UNIQUE constraint failed: ОБОРУДОВАНИЕ.Наименование\n",
      "[!] -  UNIQUE constraint failed: ЗДАНИЯ.Наименование\n",
      "[!] -  UNIQUE constraint failed: ПОМЕЩЕНИЯ.Номер\n",
      "[!] -  UNIQUE constraint failed: МАШИНЫ.Наименование\n",
      "[!] -  UNIQUE constraint failed: АДРЕСА.Адрес\n",
      "[!] -  UNIQUE constraint failed: СИСТЕМЫ.Наименование\n",
      "[!] -  UNIQUE constraint failed: ОБОРУДОВАНИЕ.Наименование\n",
      "[!] -  UNIQUE constraint failed: ЗДАНИЯ.Наименование\n",
      "[!] -  UNIQUE constraint failed: ПОМЕЩЕНИЯ.Номер\n",
      "[!] -  UNIQUE constraint failed: МАШИНЫ.Наименование\n",
      "[!] -  UNIQUE constraint failed: АДРЕСА.Адрес\n",
      "[!] -  UNIQUE constraint failed: СИСТЕМЫ.Наименование\n",
      "[!] -  UNIQUE constraint failed: ОБОРУДОВАНИЕ.Наименование\n",
      "[!] -  UNIQUE constraint failed: ЗДАНИЯ.Наименование\n",
      "[!] -  UNIQUE constraint failed: ПОМЕЩЕНИЯ.Номер\n",
      "[!] -  UNIQUE constraint failed: МАШИНЫ.Наименование\n",
      "[!] -  UNIQUE constraint failed: АДРЕСА.Адрес\n",
      "[!] -  UNIQUE constraint failed: СИСТЕМЫ.Наименование\n",
      "[!] -  UNIQUE constraint failed: ОБОРУДОВАНИЕ.Наименование\n",
      "[!] -  UNIQUE constraint failed: ЗДАНИЯ.Наименование\n",
      "[!] -  UNIQUE constraint failed: ПОМЕЩЕНИЯ.Номер\n",
      "[!] -  UNIQUE constraint failed: МАШИНЫ.Наименование\n",
      "[!] -  UNIQUE constraint failed: АДРЕСА.Адрес\n",
      "[!] -  UNIQUE constraint failed: СИСТЕМЫ.Наименование\n",
      "[!] -  UNIQUE constraint failed: ОБОРУДОВАНИЕ.Наименование\n",
      "[!] -  UNIQUE constraint failed: ЗДАНИЯ.Наименование\n",
      "[!] -  UNIQUE constraint failed: ПОМЕЩЕНИЯ.Номер\n",
      "[!] -  UNIQUE constraint failed: МАШИНЫ.Наименование\n",
      "[!] -  UNIQUE constraint failed: АДРЕСА.Адрес\n",
      "[!] -  UNIQUE constraint failed: СИСТЕМЫ.Наименование\n",
      "[!] -  UNIQUE constraint failed: ОБОРУДОВАНИЕ.Наименование\n",
      "[!] -  UNIQUE constraint failed: ЗДАНИЯ.Наименование\n",
      "[!] -  UNIQUE constraint failed: ПОМЕЩЕНИЯ.Номер\n",
      "[!] -  UNIQUE constraint failed: МАШИНЫ.Наименование\n",
      "[!] -  UNIQUE constraint failed: АДРЕСА.Адрес\n",
      "[!] -  UNIQUE constraint failed: СИСТЕМЫ.Наименование\n",
      "[!] -  UNIQUE constraint failed: ОБОРУДОВАНИЕ.Наименование\n",
      "[!] -  UNIQUE constraint failed: ЗДАНИЯ.Наименование\n",
      "[!] -  UNIQUE constraint failed: ПОМЕЩЕНИЯ.Номер\n",
      "[!] -  UNIQUE constraint failed: МАШИНЫ.Наименование\n",
      "[!] -  UNIQUE constraint failed: АДРЕСА.Адрес\n",
      "[!] -  UNIQUE constraint failed: СИСТЕМЫ.Наименование\n",
      "[!] -  UNIQUE constraint failed: ОБОРУДОВАНИЕ.Наименование\n",
      "[!] -  UNIQUE constraint failed: ЗДАНИЯ.Наименование\n",
      "[!] -  UNIQUE constraint failed: ПОМЕЩЕНИЯ.Номер\n",
      "[!] -  UNIQUE constraint failed: МАШИНЫ.Наименование\n",
      "[!] -  UNIQUE constraint failed: АДРЕСА.Адрес\n",
      "[!] -  UNIQUE constraint failed: СИСТЕМЫ.Наименование\n",
      "[!] -  UNIQUE constraint failed: ОБОРУДОВАНИЕ.Наименование\n",
      "[!] -  UNIQUE constraint failed: ЗДАНИЯ.Наименование\n",
      "[!] -  UNIQUE constraint failed: ПОМЕЩЕНИЯ.Номер\n",
      "[!] -  UNIQUE constraint failed: МАШИНЫ.Наименование\n",
      "[!] -  UNIQUE constraint failed: АДРЕСА.Адрес\n",
      "[!] -  UNIQUE constraint failed: СИСТЕМЫ.Наименование\n",
      "[!] -  UNIQUE constraint failed: ОБОРУДОВАНИЕ.Наименование\n",
      "[!] -  UNIQUE constraint failed: ЗДАНИЯ.Наименование\n",
      "[!] -  UNIQUE constraint failed: ПОМЕЩЕНИЯ.Номер\n",
      "[!] -  UNIQUE constraint failed: МАШИНЫ.Наименование\n",
      "[!] -  UNIQUE constraint failed: АДРЕСА.Адрес\n",
      "[!] -  UNIQUE constraint failed: СИСТЕМЫ.Наименование\n",
      "[!] -  UNIQUE constraint failed: ОБОРУДОВАНИЕ.Наименование\n",
      "[!] -  UNIQUE constraint failed: ЗДАНИЯ.Наименование\n",
      "[!] -  UNIQUE constraint failed: ПОМЕЩЕНИЯ.Номер\n",
      "[!] -  UNIQUE constraint failed: МАШИНЫ.Наименование\n",
      "[!] -  UNIQUE constraint failed: АДРЕСА.Адрес\n",
      "[!] -  UNIQUE constraint failed: СИСТЕМЫ.Наименование\n",
      "[!] -  UNIQUE constraint failed: ОБОРУДОВАНИЕ.Наименование\n",
      "[!] -  UNIQUE constraint failed: ЗДАНИЯ.Наименование\n",
      "[!] -  UNIQUE constraint failed: ПОМЕЩЕНИЯ.Номер\n",
      "[!] -  UNIQUE constraint failed: МАШИНЫ.Наименование\n",
      "[!] -  UNIQUE constraint failed: АДРЕСА.Адрес\n",
      "[!] -  UNIQUE constraint failed: СИСТЕМЫ.Наименование\n",
      "[!] -  UNIQUE constraint failed: ОБОРУДОВАНИЕ.Наименование\n",
      "[!] -  UNIQUE constraint failed: ЗДАНИЯ.Наименование\n",
      "[!] -  UNIQUE constraint failed: ПОМЕЩЕНИЯ.Номер\n",
      "[!] -  UNIQUE constraint failed: МАШИНЫ.Наименование\n",
      "[!] -  UNIQUE constraint failed: АДРЕСА.Адрес\n",
      "[!] -  UNIQUE constraint failed: СИСТЕМЫ.Наименование\n",
      "[!] -  UNIQUE constraint failed: ОБОРУДОВАНИЕ.Наименование\n",
      "[!] -  UNIQUE constraint failed: ЗДАНИЯ.Наименование\n",
      "[!] -  UNIQUE constraint failed: ПОМЕЩЕНИЯ.Номер\n",
      "[!] -  UNIQUE constraint failed: МАШИНЫ.Наименование\n",
      "[!] -  UNIQUE constraint failed: АДРЕСА.Адрес\n",
      "[!] -  UNIQUE constraint failed: СИСТЕМЫ.Наименование\n",
      "[!] -  UNIQUE constraint failed: ОБОРУДОВАНИЕ.Наименование\n",
      "[!] -  UNIQUE constraint failed: ЗДАНИЯ.Наименование\n",
      "[!] -  UNIQUE constraint failed: ПОМЕЩЕНИЯ.Номер\n",
      "[!] -  UNIQUE constraint failed: МАШИНЫ.Наименование\n",
      "[!] -  UNIQUE constraint failed: АДРЕСА.Адрес\n",
      "[!] -  UNIQUE constraint failed: СИСТЕМЫ.Наименование\n",
      "[!] -  UNIQUE constraint failed: ОБОРУДОВАНИЕ.Наименование\n",
      "[!] -  UNIQUE constraint failed: ЗДАНИЯ.Наименование\n",
      "[!] -  UNIQUE constraint failed: ПОМЕЩЕНИЯ.Номер\n",
      "[!] -  UNIQUE constraint failed: МАШИНЫ.Наименование\n",
      "[!] -  UNIQUE constraint failed: АДРЕСА.Адрес\n",
      "[!] -  UNIQUE constraint failed: СИСТЕМЫ.Наименование\n",
      "[!] -  UNIQUE constraint failed: ОБОРУДОВАНИЕ.Наименование\n",
      "[!] -  UNIQUE constraint failed: ЗДАНИЯ.Наименование\n",
      "[!] -  UNIQUE constraint failed: ПОМЕЩЕНИЯ.Номер\n",
      "[!] -  UNIQUE constraint failed: МАШИНЫ.Наименование\n",
      "[!] -  UNIQUE constraint failed: АДРЕСА.Адрес\n",
      "[!] -  UNIQUE constraint failed: СИСТЕМЫ.Наименование\n",
      "[!] -  UNIQUE constraint failed: ОБОРУДОВАНИЕ.Наименование\n",
      "[!] -  UNIQUE constraint failed: ЗДАНИЯ.Наименование\n",
      "[!] -  UNIQUE constraint failed: ПОМЕЩЕНИЯ.Номер\n",
      "[!] -  UNIQUE constraint failed: МАШИНЫ.Наименование\n",
      "[!] -  UNIQUE constraint failed: АДРЕСА.Адрес\n",
      "[!] -  UNIQUE constraint failed: СИСТЕМЫ.Наименование\n",
      "[!] -  UNIQUE constraint failed: ОБОРУДОВАНИЕ.Наименование\n",
      "[!] -  UNIQUE constraint failed: ЗДАНИЯ.Наименование\n",
      "[!] -  UNIQUE constraint failed: ПОМЕЩЕНИЯ.Номер\n",
      "[!] -  UNIQUE constraint failed: МАШИНЫ.Наименование\n",
      "[!] -  UNIQUE constraint failed: АДРЕСА.Адрес\n",
      "[!] -  UNIQUE constraint failed: СИСТЕМЫ.Наименование\n",
      "[!] -  UNIQUE constraint failed: ОБОРУДОВАНИЕ.Наименование\n",
      "[!] -  UNIQUE constraint failed: ЗДАНИЯ.Наименование\n",
      "[!] -  UNIQUE constraint failed: ПОМЕЩЕНИЯ.Номер\n",
      "[!] -  UNIQUE constraint failed: МАШИНЫ.Наименование\n",
      "[!] -  UNIQUE constraint failed: АДРЕСА.Адрес\n",
      "[!] -  UNIQUE constraint failed: СИСТЕМЫ.Наименование\n",
      "[!] -  UNIQUE constraint failed: ОБОРУДОВАНИЕ.Наименование\n",
      "[!] -  UNIQUE constraint failed: ЗДАНИЯ.Наименование\n",
      "[!] -  UNIQUE constraint failed: ПОМЕЩЕНИЯ.Номер\n",
      "[!] -  UNIQUE constraint failed: МАШИНЫ.Наименование\n",
      "[!] -  UNIQUE constraint failed: АДРЕСА.Адрес\n",
      "[!] -  UNIQUE constraint failed: СИСТЕМЫ.Наименование\n",
      "[!] -  UNIQUE constraint failed: ОБОРУДОВАНИЕ.Наименование\n",
      "[!] -  UNIQUE constraint failed: ЗДАНИЯ.Наименование\n",
      "[!] -  UNIQUE constraint failed: ПОМЕЩЕНИЯ.Номер\n",
      "[!] -  UNIQUE constraint failed: МАШИНЫ.Наименование\n",
      "[!] -  UNIQUE constraint failed: АДРЕСА.Адрес\n",
      "[!] -  UNIQUE constraint failed: СИСТЕМЫ.Наименование\n",
      "[!] -  UNIQUE constraint failed: ОБОРУДОВАНИЕ.Наименование\n",
      "[!] -  UNIQUE constraint failed: ЗДАНИЯ.Наименование\n",
      "[!] -  UNIQUE constraint failed: ПОМЕЩЕНИЯ.Номер\n",
      "[!] -  UNIQUE constraint failed: МАШИНЫ.Наименование\n",
      "[!] -  UNIQUE constraint failed: АДРЕСА.Адрес\n",
      "[!] -  UNIQUE constraint failed: СИСТЕМЫ.Наименование\n",
      "[!] -  UNIQUE constraint failed: ОБОРУДОВАНИЕ.Наименование\n",
      "[!] -  UNIQUE constraint failed: ЗДАНИЯ.Наименование\n",
      "[!] -  UNIQUE constraint failed: ПОМЕЩЕНИЯ.Номер\n",
      "[!] -  UNIQUE constraint failed: МАШИНЫ.Наименование\n",
      "[!] -  UNIQUE constraint failed: АДРЕСА.Адрес\n",
      "[!] -  UNIQUE constraint failed: СИСТЕМЫ.Наименование\n",
      "[!] -  UNIQUE constraint failed: ОБОРУДОВАНИЕ.Наименование\n",
      "[!] -  UNIQUE constraint failed: ЗДАНИЯ.Наименование\n",
      "[!] -  UNIQUE constraint failed: ПОМЕЩЕНИЯ.Номер\n",
      "[!] -  UNIQUE constraint failed: МАШИНЫ.Наименование\n",
      "[!] -  UNIQUE constraint failed: АДРЕСА.Адрес\n",
      "[!] -  UNIQUE constraint failed: СИСТЕМЫ.Наименование\n",
      "[!] -  UNIQUE constraint failed: ОБОРУДОВАНИЕ.Наименование\n",
      "[!] -  UNIQUE constraint failed: ЗДАНИЯ.Наименование\n",
      "[!] -  UNIQUE constraint failed: ПОМЕЩЕНИЯ.Номер\n",
      "[!] -  UNIQUE constraint failed: МАШИНЫ.Наименование\n",
      "[!] -  UNIQUE constraint failed: АДРЕСА.Адрес\n",
      "[!] -  UNIQUE constraint failed: СИСТЕМЫ.Наименование\n",
      "[!] -  UNIQUE constraint failed: ОБОРУДОВАНИЕ.Наименование\n",
      "[!] -  UNIQUE constraint failed: ЗДАНИЯ.Наименование\n",
      "[!] -  UNIQUE constraint failed: ПОМЕЩЕНИЯ.Номер\n",
      "[!] -  UNIQUE constraint failed: МАШИНЫ.Наименование\n",
      "[!] -  UNIQUE constraint failed: АДРЕСА.Адрес\n",
      "[!] -  UNIQUE constraint failed: СИСТЕМЫ.Наименование\n",
      "[!] -  UNIQUE constraint failed: ОБОРУДОВАНИЕ.Наименование\n",
      "[!] -  UNIQUE constraint failed: ЗДАНИЯ.Наименование\n",
      "[!] -  UNIQUE constraint failed: ПОМЕЩЕНИЯ.Номер\n",
      "[!] -  UNIQUE constraint failed: МАШИНЫ.Наименование\n",
      "[!] -  UNIQUE constraint failed: АДРЕСА.Адрес\n",
      "[!] -  UNIQUE constraint failed: СИСТЕМЫ.Наименование\n",
      "[!] -  UNIQUE constraint failed: ОБОРУДОВАНИЕ.Наименование\n",
      "[!] -  UNIQUE constraint failed: ЗДАНИЯ.Наименование\n",
      "[!] -  UNIQUE constraint failed: ПОМЕЩЕНИЯ.Номер\n",
      "[!] -  UNIQUE constraint failed: МАШИНЫ.Наименование\n",
      "[!] -  UNIQUE constraint failed: АДРЕСА.Адрес\n",
      "[!] -  UNIQUE constraint failed: СИСТЕМЫ.Наименование\n",
      "[!] -  UNIQUE constraint failed: ОБОРУДОВАНИЕ.Наименование\n",
      "[!] -  UNIQUE constraint failed: ЗДАНИЯ.Наименование\n",
      "[!] -  UNIQUE constraint failed: ПОМЕЩЕНИЯ.Номер\n",
      "[!] -  UNIQUE constraint failed: МАШИНЫ.Наименование\n",
      "[!] -  UNIQUE constraint failed: АДРЕСА.Адрес\n",
      "[!] -  UNIQUE constraint failed: СИСТЕМЫ.Наименование\n",
      "[!] -  UNIQUE constraint failed: ОБОРУДОВАНИЕ.Наименование\n",
      "[!] -  UNIQUE constraint failed: ЗДАНИЯ.Наименование\n",
      "[!] -  UNIQUE constraint failed: ПОМЕЩЕНИЯ.Номер\n",
      "[!] -  UNIQUE constraint failed: МАШИНЫ.Наименование\n",
      "[!] -  UNIQUE constraint failed: АДРЕСА.Адрес\n",
      "[!] -  UNIQUE constraint failed: СИСТЕМЫ.Наименование\n",
      "[!] -  UNIQUE constraint failed: ОБОРУДОВАНИЕ.Наименование\n",
      "[!] -  UNIQUE constraint failed: ЗДАНИЯ.Наименование\n",
      "[!] -  UNIQUE constraint failed: ПОМЕЩЕНИЯ.Номер\n",
      "[!] -  UNIQUE constraint failed: МАШИНЫ.Наименование\n",
      "[!] -  UNIQUE constraint failed: АДРЕСА.Адрес\n",
      "[!] -  UNIQUE constraint failed: СИСТЕМЫ.Наименование\n",
      "[!] -  UNIQUE constraint failed: ОБОРУДОВАНИЕ.Наименование\n",
      "[!] -  UNIQUE constraint failed: ЗДАНИЯ.Наименование\n",
      "[!] -  UNIQUE constraint failed: ПОМЕЩЕНИЯ.Номер\n",
      "[!] -  UNIQUE constraint failed: МАШИНЫ.Наименование\n",
      "[!] -  UNIQUE constraint failed: АДРЕСА.Адрес\n",
      "[!] -  UNIQUE constraint failed: СИСТЕМЫ.Наименование\n",
      "[!] -  UNIQUE constraint failed: ОБОРУДОВАНИЕ.Наименование\n",
      "[!] -  UNIQUE constraint failed: ЗДАНИЯ.Наименование\n",
      "[!] -  UNIQUE constraint failed: ПОМЕЩЕНИЯ.Номер\n",
      "[!] -  UNIQUE constraint failed: МАШИНЫ.Наименование\n",
      "[!] -  UNIQUE constraint failed: АДРЕСА.Адрес\n",
      "[!] -  UNIQUE constraint failed: СИСТЕМЫ.Наименование\n",
      "[!] -  UNIQUE constraint failed: ОБОРУДОВАНИЕ.Наименование\n",
      "[!] -  UNIQUE constraint failed: ЗДАНИЯ.Наименование\n",
      "[!] -  UNIQUE constraint failed: ПОМЕЩЕНИЯ.Номер\n",
      "[!] -  UNIQUE constraint failed: МАШИНЫ.Наименование\n",
      "[!] -  UNIQUE constraint failed: АДРЕСА.Адрес\n",
      "[!] -  UNIQUE constraint failed: СИСТЕМЫ.Наименование\n",
      "[!] -  UNIQUE constraint failed: ОБОРУДОВАНИЕ.Наименование\n",
      "[!] -  UNIQUE constraint failed: ЗДАНИЯ.Наименование\n",
      "[!] -  UNIQUE constraint failed: ПОМЕЩЕНИЯ.Номер\n",
      "[!] -  UNIQUE constraint failed: МАШИНЫ.Наименование\n",
      "[!] -  UNIQUE constraint failed: АДРЕСА.Адрес\n",
      "[!] -  UNIQUE constraint failed: СИСТЕМЫ.Наименование\n",
      "[!] -  UNIQUE constraint failed: ОБОРУДОВАНИЕ.Наименование\n",
      "[!] -  UNIQUE constraint failed: ЗДАНИЯ.Наименование\n",
      "[!] -  UNIQUE constraint failed: ПОМЕЩЕНИЯ.Номер\n",
      "[!] -  UNIQUE constraint failed: МАШИНЫ.Наименование\n",
      "[!] -  UNIQUE constraint failed: АДРЕСА.Адрес\n",
      "[!] -  UNIQUE constraint failed: СИСТЕМЫ.Наименование\n",
      "[!] -  UNIQUE constraint failed: ОБОРУДОВАНИЕ.Наименование\n",
      "[!] -  UNIQUE constraint failed: ЗДАНИЯ.Наименование\n",
      "[!] -  UNIQUE constraint failed: ПОМЕЩЕНИЯ.Номер\n",
      "[!] -  UNIQUE constraint failed: МАШИНЫ.Наименование\n",
      "[!] -  UNIQUE constraint failed: АДРЕСА.Адрес\n",
      "[!] -  UNIQUE constraint failed: СИСТЕМЫ.Наименование\n",
      "[!] -  UNIQUE constraint failed: ОБОРУДОВАНИЕ.Наименование\n",
      "[!] -  UNIQUE constraint failed: ЗДАНИЯ.Наименование\n",
      "[!] -  UNIQUE constraint failed: ПОМЕЩЕНИЯ.Номер\n",
      "[!] -  UNIQUE constraint failed: МАШИНЫ.Наименование\n",
      "[!] -  UNIQUE constraint failed: АДРЕСА.Адрес\n",
      "[!] -  UNIQUE constraint failed: СИСТЕМЫ.Наименование\n",
      "[!] -  UNIQUE constraint failed: ОБОРУДОВАНИЕ.Наименование\n",
      "[!] -  UNIQUE constraint failed: ЗДАНИЯ.Наименование\n",
      "[!] -  UNIQUE constraint failed: ПОМЕЩЕНИЯ.Номер\n",
      "[!] -  UNIQUE constraint failed: МАШИНЫ.Наименование\n",
      "[!] -  UNIQUE constraint failed: АДРЕСА.Адрес\n",
      "[!] -  UNIQUE constraint failed: СИСТЕМЫ.Наименование\n",
      "[!] -  UNIQUE constraint failed: ОБОРУДОВАНИЕ.Наименование\n",
      "[!] -  UNIQUE constraint failed: ЗДАНИЯ.Наименование\n",
      "[!] -  UNIQUE constraint failed: ПОМЕЩЕНИЯ.Номер\n",
      "[!] -  UNIQUE constraint failed: МАШИНЫ.Наименование\n",
      "[!] -  UNIQUE constraint failed: АДРЕСА.Адрес\n",
      "[!] -  UNIQUE constraint failed: СИСТЕМЫ.Наименование\n",
      "[!] -  UNIQUE constraint failed: ОБОРУДОВАНИЕ.Наименование\n",
      "[!] -  UNIQUE constraint failed: ЗДАНИЯ.Наименование\n",
      "[!] -  UNIQUE constraint failed: ПОМЕЩЕНИЯ.Номер\n",
      "[!] -  UNIQUE constraint failed: МАШИНЫ.Наименование\n",
      "[!] -  UNIQUE constraint failed: АДРЕСА.Адрес\n",
      "[!] -  UNIQUE constraint failed: СИСТЕМЫ.Наименование\n",
      "[!] -  UNIQUE constraint failed: ОБОРУДОВАНИЕ.Наименование\n",
      "[!] -  UNIQUE constraint failed: ЗДАНИЯ.Наименование\n",
      "[!] -  UNIQUE constraint failed: ПОМЕЩЕНИЯ.Номер\n",
      "[!] -  UNIQUE constraint failed: МАШИНЫ.Наименование\n",
      "[!] -  UNIQUE constraint failed: АДРЕСА.Адрес\n",
      "[!] -  UNIQUE constraint failed: СИСТЕМЫ.Наименование\n",
      "[!] -  UNIQUE constraint failed: ОБОРУДОВАНИЕ.Наименование\n",
      "[!] -  UNIQUE constraint failed: ЗДАНИЯ.Наименование\n",
      "[!] -  UNIQUE constraint failed: ПОМЕЩЕНИЯ.Номер\n",
      "[!] -  UNIQUE constraint failed: МАШИНЫ.Наименование\n",
      "[!] -  UNIQUE constraint failed: АДРЕСА.Адрес\n",
      "[!] -  UNIQUE constraint failed: СИСТЕМЫ.Наименование\n",
      "[!] -  UNIQUE constraint failed: ОБОРУДОВАНИЕ.Наименование\n",
      "[!] -  UNIQUE constraint failed: ЗДАНИЯ.Наименование\n",
      "[!] -  UNIQUE constraint failed: ПОМЕЩЕНИЯ.Номер\n",
      "[!] -  UNIQUE constraint failed: МАШИНЫ.Наименование\n",
      "[!] -  UNIQUE constraint failed: АДРЕСА.Адрес\n",
      "[!] -  UNIQUE constraint failed: СИСТЕМЫ.Наименование\n",
      "[!] -  UNIQUE constraint failed: ОБОРУДОВАНИЕ.Наименование\n",
      "[!] -  UNIQUE constraint failed: ЗДАНИЯ.Наименование\n",
      "[!] -  UNIQUE constraint failed: ПОМЕЩЕНИЯ.Номер\n",
      "[!] -  UNIQUE constraint failed: МАШИНЫ.Наименование\n",
      "[!] -  UNIQUE constraint failed: АДРЕСА.Адрес\n",
      "[!] -  UNIQUE constraint failed: СИСТЕМЫ.Наименование\n",
      "[!] -  UNIQUE constraint failed: ОБОРУДОВАНИЕ.Наименование\n",
      "[!] -  UNIQUE constraint failed: ЗДАНИЯ.Наименование\n",
      "[!] -  UNIQUE constraint failed: ПОМЕЩЕНИЯ.Номер\n",
      "[!] -  UNIQUE constraint failed: МАШИНЫ.Наименование\n",
      "[!] -  UNIQUE constraint failed: АДРЕСА.Адрес\n",
      "[!] -  UNIQUE constraint failed: СИСТЕМЫ.Наименование\n",
      "[!] -  UNIQUE constraint failed: ОБОРУДОВАНИЕ.Наименование\n",
      "[!] -  UNIQUE constraint failed: ЗДАНИЯ.Наименование\n",
      "[!] -  UNIQUE constraint failed: ПОМЕЩЕНИЯ.Номер\n",
      "[!] -  UNIQUE constraint failed: МАШИНЫ.Наименование\n",
      "[!] -  UNIQUE constraint failed: АДРЕСА.Адрес\n",
      "[!] -  UNIQUE constraint failed: СИСТЕМЫ.Наименование\n",
      "[!] -  UNIQUE constraint failed: ОБОРУДОВАНИЕ.Наименование\n",
      "[!] -  UNIQUE constraint failed: ЗДАНИЯ.Наименование\n",
      "[!] -  UNIQUE constraint failed: ПОМЕЩЕНИЯ.Номер\n",
      "[!] -  UNIQUE constraint failed: МАШИНЫ.Наименование\n",
      "[!] -  UNIQUE constraint failed: АДРЕСА.Адрес\n",
      "[!] -  UNIQUE constraint failed: СИСТЕМЫ.Наименование\n",
      "[!] -  UNIQUE constraint failed: ОБОРУДОВАНИЕ.Наименование\n",
      "[!] -  UNIQUE constraint failed: ЗДАНИЯ.Наименование\n",
      "[!] -  UNIQUE constraint failed: ПОМЕЩЕНИЯ.Номер\n",
      "[!] -  UNIQUE constraint failed: МАШИНЫ.Наименование\n",
      "[!] -  UNIQUE constraint failed: АДРЕСА.Адрес\n",
      "[!] -  UNIQUE constraint failed: СИСТЕМЫ.Наименование\n",
      "[!] -  UNIQUE constraint failed: ОБОРУДОВАНИЕ.Наименование\n",
      "[!] -  UNIQUE constraint failed: ЗДАНИЯ.Наименование\n",
      "[!] -  UNIQUE constraint failed: ПОМЕЩЕНИЯ.Номер\n",
      "[!] -  UNIQUE constraint failed: МАШИНЫ.Наименование\n",
      "[!] -  UNIQUE constraint failed: АДРЕСА.Адрес\n",
      "[!] -  UNIQUE constraint failed: СИСТЕМЫ.Наименование\n",
      "[!] -  UNIQUE constraint failed: ОБОРУДОВАНИЕ.Наименование\n",
      "[!] -  UNIQUE constraint failed: ЗДАНИЯ.Наименование\n",
      "[!] -  UNIQUE constraint failed: ПОМЕЩЕНИЯ.Номер\n",
      "[!] -  UNIQUE constraint failed: МАШИНЫ.Наименование\n",
      "[!] -  UNIQUE constraint failed: АДРЕСА.Адрес\n",
      "[!] -  UNIQUE constraint failed: СИСТЕМЫ.Наименование\n",
      "[!] -  UNIQUE constraint failed: ОБОРУДОВАНИЕ.Наименование\n",
      "[!] -  UNIQUE constraint failed: ЗДАНИЯ.Наименование\n",
      "[!] -  UNIQUE constraint failed: ПОМЕЩЕНИЯ.Номер\n",
      "[!] -  UNIQUE constraint failed: МАШИНЫ.Наименование\n",
      "[!] -  UNIQUE constraint failed: АДРЕСА.Адрес\n",
      "[!] -  UNIQUE constraint failed: СИСТЕМЫ.Наименование\n",
      "[!] -  UNIQUE constraint failed: ОБОРУДОВАНИЕ.Наименование\n",
      "[!] -  UNIQUE constraint failed: ЗДАНИЯ.Наименование\n",
      "[!] -  UNIQUE constraint failed: ПОМЕЩЕНИЯ.Номер\n",
      "[!] -  UNIQUE constraint failed: МАШИНЫ.Наименование\n",
      "[!] -  UNIQUE constraint failed: АДРЕСА.Адрес\n",
      "[!] -  UNIQUE constraint failed: СИСТЕМЫ.Наименование\n",
      "[!] -  UNIQUE constraint failed: ОБОРУДОВАНИЕ.Наименование\n",
      "[!] -  UNIQUE constraint failed: ЗДАНИЯ.Наименование\n",
      "[!] -  UNIQUE constraint failed: ПОМЕЩЕНИЯ.Номер\n",
      "[!] -  UNIQUE constraint failed: МАШИНЫ.Наименование\n",
      "[!] -  UNIQUE constraint failed: АДРЕСА.Адрес\n",
      "[!] -  UNIQUE constraint failed: СИСТЕМЫ.Наименование\n",
      "[!] -  UNIQUE constraint failed: ОБОРУДОВАНИЕ.Наименование\n",
      "[!] -  UNIQUE constraint failed: ЗДАНИЯ.Наименование\n",
      "[!] -  UNIQUE constraint failed: ПОМЕЩЕНИЯ.Номер\n",
      "[!] -  UNIQUE constraint failed: МАШИНЫ.Наименование\n",
      "[!] -  UNIQUE constraint failed: АДРЕСА.Адрес\n",
      "[!] -  UNIQUE constraint failed: СИСТЕМЫ.Наименование\n",
      "[!] -  UNIQUE constraint failed: ОБОРУДОВАНИЕ.Наименование\n",
      "[!] -  UNIQUE constraint failed: ЗДАНИЯ.Наименование\n",
      "[!] -  UNIQUE constraint failed: ПОМЕЩЕНИЯ.Номер\n",
      "[!] -  UNIQUE constraint failed: МАШИНЫ.Наименование\n",
      "[!] -  UNIQUE constraint failed: АДРЕСА.Адрес\n",
      "[!] -  UNIQUE constraint failed: СИСТЕМЫ.Наименование\n",
      "[!] -  UNIQUE constraint failed: ОБОРУДОВАНИЕ.Наименование\n",
      "[!] -  UNIQUE constraint failed: ЗДАНИЯ.Наименование\n",
      "[!] -  UNIQUE constraint failed: ПОМЕЩЕНИЯ.Номер\n",
      "[!] -  UNIQUE constraint failed: МАШИНЫ.Наименование\n",
      "[!] -  UNIQUE constraint failed: АДРЕСА.Адрес\n",
      "[!] -  UNIQUE constraint failed: СИСТЕМЫ.Наименование\n",
      "[!] -  UNIQUE constraint failed: ОБОРУДОВАНИЕ.Наименование\n",
      "[!] -  UNIQUE constraint failed: ЗДАНИЯ.Наименование\n",
      "[!] -  UNIQUE constraint failed: ПОМЕЩЕНИЯ.Номер\n",
      "[!] -  UNIQUE constraint failed: МАШИНЫ.Наименование\n",
      "[!] -  UNIQUE constraint failed: АДРЕСА.Адрес\n",
      "[!] -  UNIQUE constraint failed: СИСТЕМЫ.Наименование\n",
      "[!] -  UNIQUE constraint failed: ОБОРУДОВАНИЕ.Наименование\n",
      "[!] -  UNIQUE constraint failed: ЗДАНИЯ.Наименование\n",
      "[!] -  UNIQUE constraint failed: ПОМЕЩЕНИЯ.Номер\n",
      "[!] -  UNIQUE constraint failed: МАШИНЫ.Наименование\n",
      "[!] -  UNIQUE constraint failed: АДРЕСА.Адрес\n",
      "[!] -  UNIQUE constraint failed: СИСТЕМЫ.Наименование\n",
      "[!] -  UNIQUE constraint failed: ОБОРУДОВАНИЕ.Наименование\n",
      "[!] -  UNIQUE constraint failed: ЗДАНИЯ.Наименование\n",
      "[!] -  UNIQUE constraint failed: ПОМЕЩЕНИЯ.Номер\n",
      "[!] -  UNIQUE constraint failed: МАШИНЫ.Наименование\n",
      "[!] -  UNIQUE constraint failed: АДРЕСА.Адрес\n",
      "[!] -  UNIQUE constraint failed: СИСТЕМЫ.Наименование\n",
      "[!] -  UNIQUE constraint failed: ОБОРУДОВАНИЕ.Наименование\n",
      "[!] -  UNIQUE constraint failed: ЗДАНИЯ.Наименование\n",
      "[!] -  UNIQUE constraint failed: ПОМЕЩЕНИЯ.Номер\n",
      "[!] -  UNIQUE constraint failed: МАШИНЫ.Наименование\n",
      "[!] -  UNIQUE constraint failed: АДРЕСА.Адрес\n",
      "[!] -  UNIQUE constraint failed: СИСТЕМЫ.Наименование\n",
      "[!] -  UNIQUE constraint failed: ОБОРУДОВАНИЕ.Наименование\n",
      "[!] -  UNIQUE constraint failed: ЗДАНИЯ.Наименование\n",
      "[!] -  UNIQUE constraint failed: ПОМЕЩЕНИЯ.Номер\n",
      "[!] -  UNIQUE constraint failed: МАШИНЫ.Наименование\n",
      "[!] -  UNIQUE constraint failed: АДРЕСА.Адрес\n",
      "[!] -  UNIQUE constraint failed: СИСТЕМЫ.Наименование\n",
      "[!] -  UNIQUE constraint failed: ОБОРУДОВАНИЕ.Наименование\n",
      "[!] -  UNIQUE constraint failed: ЗДАНИЯ.Наименование\n",
      "[!] -  UNIQUE constraint failed: ПОМЕЩЕНИЯ.Номер\n",
      "[!] -  UNIQUE constraint failed: МАШИНЫ.Наименование\n",
      "[!] -  UNIQUE constraint failed: АДРЕСА.Адрес\n",
      "[!] -  UNIQUE constraint failed: СИСТЕМЫ.Наименование\n",
      "[!] -  UNIQUE constraint failed: ОБОРУДОВАНИЕ.Наименование\n"
     ]
    }
   ],
   "source": [
    "for counter,query in enumerate(data):\n",
    "    try:\n",
    "        DB_object.execute(query, is_change=True)\n",
    "        print(f'{[counter]} - ', query)\n",
    "\n",
    "    except Exception as e:\n",
    "        if 'constraint failed' in str(e):\n",
    "            print(f'[!] - ', str(e))"
   ]
  },
  {
   "cell_type": "code",
   "execution_count": 32,
   "metadata": {},
   "outputs": [
    {
     "data": {
      "text/plain": [
       "True"
      ]
     },
     "execution_count": 32,
     "metadata": {},
     "output_type": "execute_result"
    }
   ],
   "source": [
    "DB_object.execute(f\"\"\"INSERT INTO AMALGAM VALUES (2, 1, 1, 1, 2, 2, 1)\"\"\", is_change = True)"
   ]
  },
  {
   "cell_type": "code",
   "execution_count": 34,
   "metadata": {},
   "outputs": [
    {
     "data": {
      "text/plain": [
       "[('7', '1', '2', '3', '11', '12', 13)]"
      ]
     },
     "execution_count": 34,
     "metadata": {},
     "output_type": "execute_result"
    }
   ],
   "source": [
    "DB_object.execute('''\n",
    "SELECT ЗДАНИЯ.Наименование, ПОМЕЩЕНИЯ.Номер, МАШИНЫ.Наименование, АДРЕСА.Адрес, СИСТЕМЫ.Наименование, ОБОРУДОВАНИЕ.Наименование, ФОТО.Изображение\n",
    "    FROM \n",
    "        AMALGAM JOIN ЗДАНИЯ ON AMALGAM.Здание = ЗДАНИЯ.id\n",
    "        JOIN ПОМЕЩЕНИЯ ON AMALGAM.Помещение = ПОМЕЩЕНИЯ.id\n",
    "        JOIN МАШИНЫ ON AMALGAM.Машина = МАШИНЫ.id\n",
    "        JOIN АДРЕСА ON AMALGAM.Адрес = АДРЕСА.id\n",
    "        JOIN СИСТЕМЫ ON AMALGAM.Системы = СИСТЕМЫ.id\n",
    "        JOIN ОБОРУДОВАНИЕ ON AMALGAM.Оборудование = ОБОРУДОВАНИЕ.id\n",
    "        JOIN ФОТО ON AMALGAM.Фото = ФОТО.id\n",
    "    WHERE AMALGAM.Здание = 2;\n",
    "        ''', is_change = False)"
   ]
  },
  {
   "cell_type": "code",
   "execution_count": null,
   "metadata": {},
   "outputs": [],
   "source": [
    "1, 1, 1, 1, 1, 1, 1, 1"
   ]
  },
  {
   "cell_type": "code",
   "execution_count": 35,
   "metadata": {},
   "outputs": [],
   "source": [
    "DB_object.connection_close()"
   ]
  },
  {
   "cell_type": "code",
   "execution_count": 36,
   "metadata": {},
   "outputs": [
    {
     "name": "stdout",
     "output_type": "stream",
     "text": [
      "Have no connection to database\n"
     ]
    }
   ],
   "source": [
    "DB_object.execute('SELECT 1;', is_change=False)"
   ]
  },
  {
   "cell_type": "code",
   "execution_count": null,
   "metadata": {},
   "outputs": [],
   "source": []
  }
 ],
 "metadata": {
  "kernelspec": {
   "display_name": "Python 3",
   "language": "python",
   "name": "python3"
  },
  "language_info": {
   "codemirror_mode": {
    "name": "ipython",
    "version": 3
   },
   "file_extension": ".py",
   "mimetype": "text/x-python",
   "name": "python",
   "nbconvert_exporter": "python",
   "pygments_lexer": "ipython3",
   "version": "3.10.8"
  },
  "orig_nbformat": 4,
  "vscode": {
   "interpreter": {
    "hash": "1ffdadc0d1415b19035eba2fd8fd9ccd276098cbb8bade42baf9c70e83fa5937"
   }
  }
 },
 "nbformat": 4,
 "nbformat_minor": 2
}
